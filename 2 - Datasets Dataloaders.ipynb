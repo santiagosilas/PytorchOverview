{
 "cells": [
  {
   "cell_type": "markdown",
   "id": "4220cc53-f617-4d3e-9536-6b803b4fd9e8",
   "metadata": {},
   "source": [
    "<font color='blue'><h1>Introdução Prática ao PyTorch</h1></font>\n",
    "<font color='blue'><h2>Datasets e Dataloaders em Pytorch</h2></font>\n",
    "\n",
    "- Desacoplamento do código do dataset do código do treinamento\n",
    "- Duas primitivas no Pytorch:\n",
    "  - torch.utils.data.Dataset\n",
    "  - torch.utils.data.dataLoader"
   ]
  },
  {
   "cell_type": "code",
   "execution_count": 5,
   "id": "1737452b-6122-453f-b32a-7c554fd42223",
   "metadata": {},
   "outputs": [],
   "source": [
    "from sklearn.model_selection import train_test_split\n",
    "from sklearn.datasets import load_iris"
   ]
  },
  {
   "cell_type": "code",
   "execution_count": 7,
   "id": "e9514813-718e-4997-8015-56818c9ea314",
   "metadata": {},
   "outputs": [],
   "source": [
    "import torch\n",
    "from torch.utils.data import TensorDataset, DataLoader"
   ]
  },
  {
   "cell_type": "code",
   "execution_count": 9,
   "id": "deef24bb-bdcc-4ef0-b73f-3e4898495bf1",
   "metadata": {},
   "outputs": [
    {
     "name": "stdout",
     "output_type": "stream",
     "text": [
      "(150, 4) (150,)\n"
     ]
    }
   ],
   "source": [
    "iris = load_iris()\n",
    "X, y = iris.data, iris.target\n",
    "print(X.shape, y.shape)"
   ]
  },
  {
   "cell_type": "code",
   "execution_count": 10,
   "id": "d9b8e245-3be4-44f3-8ce7-6beb0a5a7ff8",
   "metadata": {},
   "outputs": [],
   "source": [
    "X_tensor = torch.tensor(X, dtype=torch.float)\n",
    "y_tensor = torch.tensor(y, dtype=torch.long)"
   ]
  },
  {
   "cell_type": "code",
   "execution_count": 12,
   "id": "1f9bc837-b489-46aa-83ca-99aa9d83708c",
   "metadata": {},
   "outputs": [
    {
     "data": {
      "text/plain": [
       "<torch.utils.data.dataset.TensorDataset at 0x7674e00c6250>"
      ]
     },
     "execution_count": 12,
     "metadata": {},
     "output_type": "execute_result"
    }
   ],
   "source": [
    "# definindo o conjunto de dados com tensores\n",
    "train_dataset = TensorDataset(X_tensor, y_tensor)\n",
    "train_dataset"
   ]
  },
  {
   "cell_type": "code",
   "execution_count": 23,
   "id": "0f96e614-4ad8-4b92-8e07-6f0abe309fd4",
   "metadata": {},
   "outputs": [],
   "source": [
    "# definindo o dataloader\n",
    "train_dataloader = DataLoader(\n",
    "    train_dataset, batch_size=10, shuffle=True)"
   ]
  },
  {
   "cell_type": "code",
   "execution_count": 24,
   "id": "373b5e0c-05e1-4e04-89cd-5649aa5822a1",
   "metadata": {},
   "outputs": [
    {
     "data": {
      "text/plain": [
       "15"
      ]
     },
     "execution_count": 24,
     "metadata": {},
     "output_type": "execute_result"
    }
   ],
   "source": [
    "len(train_dataloader) # qtde de iterações para percorrer todos os dados)"
   ]
  },
  {
   "cell_type": "code",
   "execution_count": 25,
   "id": "6599b291-bc6c-4f20-ab45-df1effca1542",
   "metadata": {},
   "outputs": [
    {
     "name": "stdout",
     "output_type": "stream",
     "text": [
      "1 torch.Size([10, 4]) torch.Size([10])\n",
      "2 torch.Size([10, 4]) torch.Size([10])\n",
      "3 torch.Size([10, 4]) torch.Size([10])\n",
      "4 torch.Size([10, 4]) torch.Size([10])\n",
      "5 torch.Size([10, 4]) torch.Size([10])\n",
      "6 torch.Size([10, 4]) torch.Size([10])\n",
      "7 torch.Size([10, 4]) torch.Size([10])\n",
      "8 torch.Size([10, 4]) torch.Size([10])\n",
      "9 torch.Size([10, 4]) torch.Size([10])\n",
      "10 torch.Size([10, 4]) torch.Size([10])\n",
      "11 torch.Size([10, 4]) torch.Size([10])\n",
      "12 torch.Size([10, 4]) torch.Size([10])\n",
      "13 torch.Size([10, 4]) torch.Size([10])\n",
      "14 torch.Size([10, 4]) torch.Size([10])\n",
      "15 torch.Size([10, 4]) torch.Size([10])\n"
     ]
    }
   ],
   "source": [
    "# loop\n",
    "for count, data in enumerate(train_dataloader):\n",
    "    inputs, labels = data\n",
    "    print(count+1, inputs.shape, labels.shape)"
   ]
  },
  {
   "cell_type": "code",
   "execution_count": 26,
   "id": "a8c61ee4-481e-4a97-848d-62ae17fcd619",
   "metadata": {},
   "outputs": [],
   "source": [
    "# Acessando ao batch sem loop\n",
    "inputs, labels = next(iter(train_dataloader))"
   ]
  },
  {
   "cell_type": "code",
   "execution_count": null,
   "id": "6e74ba42-6de5-452e-b8e6-65cc02acdfb1",
   "metadata": {},
   "outputs": [],
   "source": []
  },
  {
   "cell_type": "code",
   "execution_count": null,
   "id": "18d75818-b61b-4314-998e-6fd0215866e5",
   "metadata": {},
   "outputs": [],
   "source": []
  }
 ],
 "metadata": {
  "kernelspec": {
   "display_name": "Pytorch Overview (Python 3.9)",
   "language": "python",
   "name": "py39pytorchoverview"
  },
  "language_info": {
   "codemirror_mode": {
    "name": "ipython",
    "version": 3
   },
   "file_extension": ".py",
   "mimetype": "text/x-python",
   "name": "python",
   "nbconvert_exporter": "python",
   "pygments_lexer": "ipython3",
   "version": "3.9.20"
  }
 },
 "nbformat": 4,
 "nbformat_minor": 5
}
