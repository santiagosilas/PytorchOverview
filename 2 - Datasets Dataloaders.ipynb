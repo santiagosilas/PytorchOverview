{
 "cells": [
  {
   "cell_type": "markdown",
   "id": "4220cc53-f617-4d3e-9536-6b803b4fd9e8",
   "metadata": {},
   "source": [
    "<font color='blue'><h1>Introdução Prática ao PyTorch</h1></font>\n",
    "<font color='blue'><h2>Datasets e Dataloaders em Pytorch</h2></font>\n",
    "\n",
    "- Desacoplamento do código do dataset do código do treinamento\n",
    "- Duas primitivas no Pytorch:\n",
    "  - torch.utils.data.Dataset\n",
    "  - torch.utils.data.dataLoader"
   ]
  },
  {
   "cell_type": "markdown",
   "id": "ccdf87c1-cf94-467f-a0cc-2a8ea76e0b32",
   "metadata": {},
   "source": [
    "#### Exemplo 1"
   ]
  },
  {
   "cell_type": "code",
   "execution_count": 5,
   "id": "1737452b-6122-453f-b32a-7c554fd42223",
   "metadata": {},
   "outputs": [],
   "source": [
    "from sklearn.model_selection import train_test_split\n",
    "from sklearn.datasets import load_iris"
   ]
  },
  {
   "cell_type": "code",
   "execution_count": 7,
   "id": "e9514813-718e-4997-8015-56818c9ea314",
   "metadata": {},
   "outputs": [],
   "source": [
    "import torch\n",
    "from torch.utils.data import TensorDataset, DataLoader"
   ]
  },
  {
   "cell_type": "code",
   "execution_count": 9,
   "id": "deef24bb-bdcc-4ef0-b73f-3e4898495bf1",
   "metadata": {},
   "outputs": [
    {
     "name": "stdout",
     "output_type": "stream",
     "text": [
      "(150, 4) (150,)\n"
     ]
    }
   ],
   "source": [
    "iris = load_iris()\n",
    "X, y = iris.data, iris.target\n",
    "print(X.shape, y.shape)"
   ]
  },
  {
   "cell_type": "code",
   "execution_count": 10,
   "id": "d9b8e245-3be4-44f3-8ce7-6beb0a5a7ff8",
   "metadata": {},
   "outputs": [],
   "source": [
    "X_tensor = torch.tensor(X, dtype=torch.float)\n",
    "y_tensor = torch.tensor(y, dtype=torch.long)"
   ]
  },
  {
   "cell_type": "code",
   "execution_count": 12,
   "id": "1f9bc837-b489-46aa-83ca-99aa9d83708c",
   "metadata": {},
   "outputs": [
    {
     "data": {
      "text/plain": [
       "<torch.utils.data.dataset.TensorDataset at 0x7674e00c6250>"
      ]
     },
     "execution_count": 12,
     "metadata": {},
     "output_type": "execute_result"
    }
   ],
   "source": [
    "# definindo o conjunto de dados com tensores\n",
    "train_dataset = TensorDataset(X_tensor, y_tensor)\n",
    "train_dataset"
   ]
  },
  {
   "cell_type": "code",
   "execution_count": 23,
   "id": "0f96e614-4ad8-4b92-8e07-6f0abe309fd4",
   "metadata": {},
   "outputs": [],
   "source": [
    "# definindo o dataloader\n",
    "train_dataloader = DataLoader(\n",
    "    train_dataset, batch_size=10, shuffle=True)"
   ]
  },
  {
   "cell_type": "code",
   "execution_count": 24,
   "id": "373b5e0c-05e1-4e04-89cd-5649aa5822a1",
   "metadata": {},
   "outputs": [
    {
     "data": {
      "text/plain": [
       "15"
      ]
     },
     "execution_count": 24,
     "metadata": {},
     "output_type": "execute_result"
    }
   ],
   "source": [
    "len(train_dataloader) # qtde de iterações para percorrer todos os dados)"
   ]
  },
  {
   "cell_type": "code",
   "execution_count": 25,
   "id": "6599b291-bc6c-4f20-ab45-df1effca1542",
   "metadata": {},
   "outputs": [
    {
     "name": "stdout",
     "output_type": "stream",
     "text": [
      "1 torch.Size([10, 4]) torch.Size([10])\n",
      "2 torch.Size([10, 4]) torch.Size([10])\n",
      "3 torch.Size([10, 4]) torch.Size([10])\n",
      "4 torch.Size([10, 4]) torch.Size([10])\n",
      "5 torch.Size([10, 4]) torch.Size([10])\n",
      "6 torch.Size([10, 4]) torch.Size([10])\n",
      "7 torch.Size([10, 4]) torch.Size([10])\n",
      "8 torch.Size([10, 4]) torch.Size([10])\n",
      "9 torch.Size([10, 4]) torch.Size([10])\n",
      "10 torch.Size([10, 4]) torch.Size([10])\n",
      "11 torch.Size([10, 4]) torch.Size([10])\n",
      "12 torch.Size([10, 4]) torch.Size([10])\n",
      "13 torch.Size([10, 4]) torch.Size([10])\n",
      "14 torch.Size([10, 4]) torch.Size([10])\n",
      "15 torch.Size([10, 4]) torch.Size([10])\n"
     ]
    }
   ],
   "source": [
    "# loop\n",
    "for count, data in enumerate(train_dataloader):\n",
    "    inputs, labels = data\n",
    "    print(count+1, inputs.shape, labels.shape)"
   ]
  },
  {
   "cell_type": "code",
   "execution_count": 26,
   "id": "a8c61ee4-481e-4a97-848d-62ae17fcd619",
   "metadata": {},
   "outputs": [],
   "source": [
    "# Acessando ao batch sem loop\n",
    "inputs, labels = next(iter(train_dataloader))"
   ]
  },
  {
   "cell_type": "markdown",
   "id": "b2721064-2677-4bea-9506-4ac944f39523",
   "metadata": {},
   "source": [
    "#### Exemplo 2"
   ]
  },
  {
   "cell_type": "code",
   "execution_count": 1,
   "id": "18d75818-b61b-4314-998e-6fd0215866e5",
   "metadata": {},
   "outputs": [],
   "source": [
    "import numpy as np\n",
    "from sklearn.datasets import make_classification\n",
    "from sklearn.model_selection import train_test_split\n",
    "import torch"
   ]
  },
  {
   "cell_type": "code",
   "execution_count": 2,
   "id": "89298ada-d6f8-43aa-82e7-3e0ca94bec1f",
   "metadata": {},
   "outputs": [
    {
     "name": "stdout",
     "output_type": "stream",
     "text": [
      "(569, 30) (569,)\n"
     ]
    },
    {
     "data": {
      "text/plain": [
       "((381, 30), (188, 30), (381,), (188,))"
      ]
     },
     "execution_count": 2,
     "metadata": {},
     "output_type": "execute_result"
    }
   ],
   "source": [
    "from sklearn.datasets import load_breast_cancer\n",
    "data = load_breast_cancer()\n",
    "X, y = data.data, data.target\n",
    "X = (X - X.min()) / (X.max() - X.min())\n",
    "print(X.shape, y.shape)\n",
    "\n",
    "# split into train test sets\n",
    "X_train, X_test, y_train, y_test = train_test_split(X, y, test_size=0.33, random_state=1)\n",
    "\n",
    "X_train.shape, X_test.shape, y_train.shape, y_test.shape"
   ]
  },
  {
   "cell_type": "code",
   "execution_count": 3,
   "id": "60634274-f390-4a66-ad93-6f3bca02c1b9",
   "metadata": {},
   "outputs": [],
   "source": [
    "class TrainDataset(torch.utils.data.Dataset):\n",
    "    def __init__(self, X, y):\n",
    "        self.X = torch.tensor(np.array(X), dtype=torch.float)\n",
    "        self.y = torch.tensor(np.array(y), dtype=torch.float)\n",
    "\n",
    "    def __getitem__(self, index):\n",
    "        return self.X[index], self.y[index]\n",
    "\n",
    "    def __len__(self):\n",
    "        return len(self.X)\n",
    "\n",
    "class TestDataset(torch.utils.data.Dataset):\n",
    "    def __init__(self, X):\n",
    "        self.X = torch.tensor(np.array(X), dtype=torch.float)\n",
    "\n",
    "    def __getitem__(self, index):\n",
    "        return self.X[index]\n",
    "\n",
    "    def __len__(self):\n",
    "        return len(self.X)"
   ]
  },
  {
   "cell_type": "code",
   "execution_count": 4,
   "id": "3cf126b2-b9a8-49a9-b1ca-247eb5b82738",
   "metadata": {},
   "outputs": [],
   "source": [
    "def build_train_data_loader(X_train, y_train, batch_size):\n",
    "  '''\n",
    "  Recebe o conjunto de treinamento (X_train, y_train) e\n",
    "  retorna um objeto para carregamento dos dados em minibatches\n",
    "  '''\n",
    "\n",
    "  # converte dados de array numpy para tensores em pytorch\n",
    "  X_train_tensor = torch.tensor(np.array(X_train), dtype=torch.float)\n",
    "  y_train_tensor = torch.tensor(np.array(y_train), dtype=torch.float)\n",
    "\n",
    "  # cria o dataset como um TensorDataset do PyTorch\n",
    "  train_dataset = torch.utils.data.TensorDataset(X_train_tensor, y_train_tensor)\n",
    "\n",
    "  # Constrói um objeto DataLoader para o posterior treinamento em MiniBatches\n",
    "  # Objeto que já deixa os dados divididos em batches\n",
    "  train_loader = torch.utils.data.DataLoader(train_dataset, batch_size = batch_size, shuffle=True)\n",
    "\n",
    "  return train_loader"
   ]
  },
  {
   "cell_type": "code",
   "execution_count": 6,
   "id": "7a64e6e4-c96f-420b-9c68-d99d246df20b",
   "metadata": {},
   "outputs": [],
   "source": [
    "train_loader = torch.utils.data.DataLoader(\n",
    "    dataset=TrainDataset(X_train, y_train), \n",
    "    batch_size=16, shuffle=True)"
   ]
  },
  {
   "cell_type": "code",
   "execution_count": 7,
   "id": "7121cac3-8649-41da-a704-b6d50efe112a",
   "metadata": {},
   "outputs": [],
   "source": [
    "# treinamento da rede\n",
    "num_epochs = 10\n",
    "for epoch in range(num_epochs):\n",
    "  \n",
    "  # laço para obter os dados em \"batches\"\n",
    "  # percorre cada minilote no conjunto de treinamento\n",
    "  count_batch = 0\n",
    "  for inputs, labels in train_loader:\n",
    "      pass"
   ]
  },
  {
   "cell_type": "code",
   "execution_count": null,
   "id": "81d0198f-ffab-4ab4-abdd-04de670afd83",
   "metadata": {},
   "outputs": [],
   "source": []
  }
 ],
 "metadata": {
  "kernelspec": {
   "display_name": "Pytorch Overview (Python 3.9)",
   "language": "python",
   "name": "py39pytorchoverview"
  },
  "language_info": {
   "codemirror_mode": {
    "name": "ipython",
    "version": 3
   },
   "file_extension": ".py",
   "mimetype": "text/x-python",
   "name": "python",
   "nbconvert_exporter": "python",
   "pygments_lexer": "ipython3",
   "version": "3.9.20"
  }
 },
 "nbformat": 4,
 "nbformat_minor": 5
}
