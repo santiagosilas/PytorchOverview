{
 "cells": [
  {
   "cell_type": "markdown",
   "id": "f48dec72-0b73-4245-9a01-0561e929ec3b",
   "metadata": {},
   "source": [
    "<font color='blue'><h1>Introdução Prática ao PyTorch</h1></font>\n",
    "\n",
    "<font color='0471A6'><h2>Loop de Otimização no PyTorch - Exemplo com Classificação Binária</h2></font>\n",
    "\n",
    "- O modelo é treinado / otimizado em um loop de otimização\n",
    "- Cada iteração será uma época\n",
    "- Cada época contém duas partes principais:\n",
    "  - Loop de treinamento\n",
    "    - iteração sobre o conjunto de treinamento\n",
    "  - Loop de validação\n",
    "    - iteração sobre o conjunto de validação"
   ]
  },
  {
   "cell_type": "markdown",
   "id": "e2de350e-a6d1-4b0d-9d06-4369c8893a47",
   "metadata": {},
   "source": [
    "Hiperparâmetros (parâmetros ajustáveis pelo projetista). Exemplos:\n",
    "- Número de Épocas\n",
    "- Tamanho do Lote (Batch)\n",
    "- Taxa de Aprendizagem"
   ]
  },
  {
   "cell_type": "code",
   "execution_count": 1,
   "id": "8b82b0ba-12d5-493f-99fa-cf3e20030c66",
   "metadata": {},
   "outputs": [],
   "source": [
    "import torch\n",
    "import torch.nn as nn\n",
    "import torch.optim as optim\n",
    "from torch.utils.data import TensorDataset, DataLoader\n",
    "from collections import Counter"
   ]
  },
  {
   "cell_type": "code",
   "execution_count": 2,
   "id": "c41c4502-3b9a-407c-8172-0901b5426672",
   "metadata": {},
   "outputs": [],
   "source": [
    "from sklearn.datasets import load_breast_cancer\n",
    "from sklearn.model_selection import train_test_split"
   ]
  },
  {
   "cell_type": "code",
   "execution_count": 3,
   "id": "7d97ac6f-3fe4-4e38-b67a-73503559e96b",
   "metadata": {},
   "outputs": [],
   "source": [
    "data = load_breast_cancer()\n",
    "X = data.data\n",
    "y = data.target\n",
    "X_train, X_test, y_train, y_test\\\n",
    "= train_test_split(X, y, test_size=0.25)"
   ]
  },
  {
   "cell_type": "code",
   "execution_count": 4,
   "id": "a4896ca0-2067-4a30-b71b-ec894608342d",
   "metadata": {},
   "outputs": [],
   "source": [
    "X_train = torch.Tensor(X_train)\n",
    "y_train = torch.Tensor(y_train)\n",
    "X_test = torch.Tensor(X_test)\n",
    "y_test = torch.Tensor(y_test)"
   ]
  },
  {
   "cell_type": "code",
   "execution_count": 5,
   "id": "c41bd694-3fed-4511-a061-6f2f9ee22a39",
   "metadata": {},
   "outputs": [],
   "source": [
    "train_dataset = TensorDataset(X_train, y_train)\n",
    "train_loader = DataLoader(train_dataset, \n",
    "                          batch_size=10, shuffle=True)\n",
    "\n",
    "test_dataset = TensorDataset(X_test, y_test)\n",
    "test_loader = DataLoader(test_dataset, \n",
    "                         batch_size=1, shuffle=True)"
   ]
  },
  {
   "cell_type": "code",
   "execution_count": 6,
   "id": "8c1db977-515e-4055-94e8-4ae76d92e80a",
   "metadata": {},
   "outputs": [],
   "source": [
    "class MLP(nn.Module):\n",
    "    def __init__(self):\n",
    "        super().__init__()\n",
    "        self.fc1 = nn.Linear(30, 16)\n",
    "        self.fc2 = nn.Linear(16, 1)\n",
    "        self.sigmoid = nn.Sigmoid()\n",
    "        \n",
    "    def forward(self, x):\n",
    "        x = self.fc1(x)\n",
    "        x = self.sigmoid(x)\n",
    "        x = self.fc2(x)\n",
    "        x = self.sigmoid(x)\n",
    "        return x"
   ]
  },
  {
   "cell_type": "code",
   "execution_count": 7,
   "id": "5eccf7f4-8b01-4436-802d-4a23c4f2f7dc",
   "metadata": {},
   "outputs": [],
   "source": [
    "net = MLP()\n",
    "criterion = nn.MSELoss()\n",
    "optimizer = optim.SGD(net.parameters(), lr=0.01)                   "
   ]
  },
  {
   "cell_type": "code",
   "execution_count": 8,
   "id": "ec52d752-3967-4763-bd1c-a306a58eeb73",
   "metadata": {},
   "outputs": [
    {
     "data": {
      "text/plain": [
       "MLP(\n",
       "  (fc1): Linear(in_features=30, out_features=16, bias=True)\n",
       "  (fc2): Linear(in_features=16, out_features=1, bias=True)\n",
       "  (sigmoid): Sigmoid()\n",
       ")"
      ]
     },
     "execution_count": 8,
     "metadata": {},
     "output_type": "execute_result"
    }
   ],
   "source": [
    "net.train()"
   ]
  },
  {
   "cell_type": "code",
   "execution_count": 9,
   "id": "065b28f2-bf17-4816-806c-0926255fcda8",
   "metadata": {},
   "outputs": [
    {
     "name": "stdout",
     "output_type": "stream",
     "text": [
      "Epoch 0 loss: 0.226\n",
      "Epoch 100 loss: 0.233\n",
      "Epoch 200 loss: 0.221\n",
      "Epoch 300 loss: 0.233\n",
      "Epoch 400 loss: 0.233\n",
      "Epoch 500 loss: 0.232\n",
      "Epoch 600 loss: 0.232\n",
      "Epoch 700 loss: 0.232\n",
      "Epoch 800 loss: 0.233\n",
      "Epoch 900 loss: 0.233\n"
     ]
    }
   ],
   "source": [
    "# Treinando a rede neural\n",
    "for epoch in range(1000):\n",
    "    running_loss = 0.0\n",
    "    for i, data in enumerate(train_loader, 0):\n",
    "        inputs, labels = data\n",
    "        optimizer.zero_grad() \n",
    "        outputs = net(inputs)\n",
    "        loss = criterion(outputs, labels.view(-1, 1))\n",
    "        loss.backward()\n",
    "        optimizer.step()\n",
    "        running_loss += loss.item()\n",
    "    if epoch % 100 == 0:\n",
    "      print('Epoch %d loss: %.3f' % (epoch, \n",
    "          running_loss / len(train_loader)))"
   ]
  },
  {
   "cell_type": "code",
   "execution_count": 10,
   "id": "641e6a0a-e400-46fa-a318-550f0168b906",
   "metadata": {},
   "outputs": [
    {
     "name": "stdout",
     "output_type": "stream",
     "text": [
      "Accuracy on test set: 0.6084\n"
     ]
    }
   ],
   "source": [
    "net.eval() \n",
    "\n",
    "correct = 0\n",
    "total = 0\n",
    "\n",
    "with torch.no_grad():\n",
    "    for inputs, targets in test_loader:\n",
    "        outputs = net(inputs)\n",
    "        predictions = torch.round(outputs)\n",
    "        total += targets.size(0)\n",
    "        correct += (predictions == \n",
    "                    targets.unsqueeze(1)).sum().item()\n",
    "\n",
    "accuracy = correct / total\n",
    "print(f\"Accuracy on test set: {accuracy:.4f}\")"
   ]
  },
  {
   "cell_type": "markdown",
   "id": "0ff8df53-a3d5-488f-bdc2-a9f9aff2d502",
   "metadata": {},
   "source": [
    "# Referências \n",
    "\n",
    "* Documentação do Pytorch. Disponível em https://pytorch.org \n",
    "* Tutorial oficial do Pytorch. Disponível em https://pytorch.org/tutorials/beginner/basics/intro.html \n",
    "* Introdução ao Pytorch. Canal “Programação Dinâmica”. Disponível em https://www.youtube.com/watch?v=cGxv8tOaA7I \n",
    "* PyTorch Crash Course - Getting Started with Deep Learning. Canal AssemblyAI\". Disponível em https://youtu.be/OIenNRt2bjg \n"
   ]
  },
  {
   "cell_type": "code",
   "execution_count": null,
   "id": "3e4e5d8b-020b-4aa3-95be-b90911658507",
   "metadata": {},
   "outputs": [],
   "source": []
  }
 ],
 "metadata": {
  "kernelspec": {
   "display_name": "Python 3 (ipykernel)",
   "language": "python",
   "name": "python3"
  },
  "language_info": {
   "codemirror_mode": {
    "name": "ipython",
    "version": 3
   },
   "file_extension": ".py",
   "mimetype": "text/x-python",
   "name": "python",
   "nbconvert_exporter": "python",
   "pygments_lexer": "ipython3",
   "version": "3.9.20"
  }
 },
 "nbformat": 4,
 "nbformat_minor": 5
}
