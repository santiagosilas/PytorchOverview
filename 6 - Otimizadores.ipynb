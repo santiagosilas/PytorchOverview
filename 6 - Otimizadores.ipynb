{
 "cells": [
  {
   "cell_type": "markdown",
   "id": "bbb36a59-766b-43b0-b7b0-a9df65af0275",
   "metadata": {},
   "source": [
    "<font color='blue'><h1>Introdução Prática ao PyTorch</h1></font>\n",
    "<font color='0471A6'><h2>Otimizadores (Optimizers) em PyTorch (Visão Geral)</h2></font>"
   ]
  },
  {
   "cell_type": "code",
   "execution_count": 6,
   "id": "52b8c862-71d4-426e-b462-cb87530c9666",
   "metadata": {},
   "outputs": [],
   "source": [
    "# Define a Rede Neural\n",
    "import torch\n",
    "import torch.nn as nn\n",
    "\n",
    "class Net(nn.Module):\n",
    "    def __init__(self):\n",
    "        super(Net, self).__init__()\n",
    "        self.seq = nn.Sequential(\n",
    "            nn.Linear(4, 8),\n",
    "            nn.Sigmoid(),\n",
    "            nn.Linear(8, 1),\n",
    "            nn.Sigmoid()\n",
    "        )\n",
    "        \n",
    "    def forward(self, x):\n",
    "        return self.seq(x)\n",
    "\n",
    "# Cria uma instância da classe\n",
    "model = Net()"
   ]
  },
  {
   "cell_type": "code",
   "execution_count": 7,
   "id": "63aaecfa-573a-4bde-92ea-1c5a98ee8b6d",
   "metadata": {},
   "outputs": [],
   "source": [
    "import torch \n",
    "'''\n",
    "Alguns dos otimizadores disponíveis no PyTorch\n",
    "'''\n",
    "\n",
    "# Descida de Gradiente Estocástico (SGD)\n",
    "optimizer = torch.optim.SGD(model.parameters(), lr=0.001)\n",
    "\n",
    "# Adam\n",
    "optimizer = torch.optim.Adam(model.parameters(), lr=0.001)\n",
    "\n",
    "# Adagrad\n",
    "optimizer = torch.optim.Adagrad(model.parameters(), lr=0.01)"
   ]
  },
  {
   "cell_type": "markdown",
   "id": "70acb841-5167-4322-b84e-c036d7a248ac",
   "metadata": {},
   "source": [
    "# Referências \n",
    "\n",
    "* Documentação do Pytorch. Disponível em https://pytorch.org \n",
    "* Tutorial oficial do Pytorch. Disponível em https://pytorch.org/tutorials/beginner/basics/intro.html \n",
    "* Introdução ao Pytorch. Canal “Programação Dinâmica”. Disponível em https://www.youtube.com/watch?v=cGxv8tOaA7I \n",
    "* PyTorch Crash Course - Getting Started with Deep Learning. Canal AssemblyAI\". Disponível em https://youtu.be/OIenNRt2bjg \n"
   ]
  },
  {
   "cell_type": "code",
   "execution_count": null,
   "id": "8ef50b6c-81fd-4274-a997-cbc247afca82",
   "metadata": {},
   "outputs": [],
   "source": []
  }
 ],
 "metadata": {
  "kernelspec": {
   "display_name": "Pytorch Overview (Python 3.9)",
   "language": "python",
   "name": "py39pytorchoverview"
  },
  "language_info": {
   "codemirror_mode": {
    "name": "ipython",
    "version": 3
   },
   "file_extension": ".py",
   "mimetype": "text/x-python",
   "name": "python",
   "nbconvert_exporter": "python",
   "pygments_lexer": "ipython3",
   "version": "3.9.20"
  }
 },
 "nbformat": 4,
 "nbformat_minor": 5
}
