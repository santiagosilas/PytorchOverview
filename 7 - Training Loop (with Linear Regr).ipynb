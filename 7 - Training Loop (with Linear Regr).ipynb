{
 "cells": [
  {
   "cell_type": "markdown",
   "id": "f48dec72-0b73-4245-9a01-0561e929ec3b",
   "metadata": {},
   "source": [
    "<font color='blue'><h1>Introdução Prática ao PyTorch</h1></font>\n",
    "<font color='0471A6'><h2>Loop de Treinamento em Pytorch (com um exemplo simples de Regressão Linear)</h2></font>\n",
    "\n",
    "<font color='0471A6'><h2>Loop de Otimização no PyTorch</h2></font>\n",
    "\n",
    "- O modelo é treinado / otimizado em um loop de otimização\n",
    "- Cada iteração será uma época\n",
    "- Cada época contém duas partes principais:\n",
    "  - Loop de treinamento\n",
    "    - iteração sobre o conjunto de treinamento\n",
    "  - Loop de validação\n",
    "    - iteração sobre o conjunto de validação"
   ]
  },
  {
   "cell_type": "markdown",
   "id": "30bafe09-4ed2-432f-a367-5b762cca7a40",
   "metadata": {},
   "source": [
    "<font color='0471A6'><h3>Exemplo: Regressão Linear com Pytorch</h3></font>\n",
    "\n",
    "<h4>Pipeline Típico em Pytorch</h4>\n",
    "\n",
    "* Modelagem da Rede (Entrada, Saída, passo Forward)\n",
    "* Definição da Função de Custo e do Otimizador\n",
    "* Loop de Treinamento\n",
    "  * Passo Forward (cômputo da predição e custo)\n",
    "  * Passo Backward (cômputo dos gradientes)\n",
    "  * Atualização dos Pesos"
   ]
  },
  {
   "cell_type": "code",
   "execution_count": 3,
   "id": "8b82b0ba-12d5-493f-99fa-cf3e20030c66",
   "metadata": {},
   "outputs": [
    {
     "name": "stdout",
     "output_type": "stream",
     "text": [
      "epoch 5 loss: 0.33898\n",
      "epoch 10 loss: 0.00027\n",
      "epoch 15 loss: 0.00000\n",
      "epoch 20 loss: 0.00000\n",
      "epoch 25 loss: 0.00000\n"
     ]
    },
    {
     "data": {
      "text/plain": [
       "10.0"
      ]
     },
     "execution_count": 3,
     "metadata": {},
     "output_type": "execute_result"
    }
   ],
   "source": [
    "import torch \n",
    "\n",
    "# Exemplo 1 de Regressão Linear com BackPropagation \n",
    "\n",
    "# Treinamento em Pytorch f(x) = 2*x\n",
    "X = torch.tensor([1,2,3,4,5,6,7,8], dtype=torch.float32)\n",
    "Y = torch.tensor([2,4,6,8,10,12,14,16], dtype=torch.float32)\n",
    "w = torch.tensor(0.0, dtype=torch.float32, requires_grad=True)\n",
    "\n",
    "def forward(X):\n",
    "  return w * X\n",
    "\n",
    "def loss(y, y_pred):\n",
    "  return ((y-y_pred)**2).mean()\n",
    "\n",
    "# Training\n",
    "learning_rate = 0.01\n",
    "n_epochs = 25\n",
    "for epoch in range(n_epochs):\n",
    "  y_pred = forward(X)\n",
    "  l = loss(Y, y_pred)\n",
    "  l.backward() # calcu la os gradientes \n",
    "\n",
    "  # atualiza os pesos\n",
    "  # apenas atualizar os pesos \n",
    "  # (sem incluir esta operação no cálculo do gradiente)\n",
    "  with torch.no_grad():\n",
    "    w -= learning_rate * w.grad\n",
    "\n",
    "  # zera os gradientes após o update\n",
    "  w.grad.zero_()\n",
    "\n",
    "  if (epoch+1) % 5 == 0:\n",
    "    print(f'epoch {epoch+1} loss: {l.item():.5f}')\n",
    "\n",
    "# teste\n",
    "forward(5.0).item()"
   ]
  },
  {
   "cell_type": "code",
   "execution_count": 6,
   "id": "7811149e-0fdf-4183-b126-3b48cb7a9b99",
   "metadata": {},
   "outputs": [
    {
     "name": "stdout",
     "output_type": "stream",
     "text": [
      "10 1.9112434387207031 0.0501398928463459\n",
      "20 1.9162791967391968 0.045992206782102585\n",
      "30 1.9195630550384521 0.04245591163635254\n",
      "40 1.9227173328399658 0.03919147327542305\n",
      "50 1.9257478713989258 0.0361780971288681\n",
      "60 1.9286595582962036 0.03339628502726555\n",
      "70 1.9314570426940918 0.030828483402729034\n",
      "80 1.9341448545455933 0.028458114713430405\n",
      "90 1.9367272853851318 0.026270005851984024\n",
      "100 1.9392085075378418 0.0242500938475132\n",
      "tensor([10.0378], grad_fn=<ViewBackward0>)\n"
     ]
    }
   ],
   "source": [
    "# Exemplo 2 de Regressão Linear com BackPropagation \n",
    "# Utiliza algumas estruturas fundamentais do PyTorch\n",
    "\n",
    "import torch\n",
    "import torch.nn as nn\n",
    "\n",
    "X = torch.tensor([ [1],[2],[3],[4],[5],[6],[7],[8] ], dtype=torch.float32)\n",
    "Y = torch.tensor([ [2],[4],[6],[8],[10],[12],[14],[16] ], dtype=torch.float32)\n",
    "\n",
    "class RegressaoLinear(nn.Module):\n",
    "  def __init__(self):\n",
    "    super(RegressaoLinear, self).__init__()\n",
    "    self.layer = nn.Linear(1, 1)\n",
    "  def forward(self, x):\n",
    "    return self.layer(x)\n",
    "\n",
    "model = RegressaoLinear()\n",
    "loss = nn.MSELoss()\n",
    "optimizer = torch.optim.SGD(model.parameters(), lr=0.01)\n",
    "\n",
    "for epoch in range(100):\n",
    "  # obtém as predições do modelo\n",
    "  y_predicted = model(X)\n",
    "  # calcula o custo\n",
    "  l = loss(Y, y_predicted)\n",
    "  # calcula os gradientes (passo backward)\n",
    "  l.backward()\n",
    "  # atualiza os pesos\n",
    "  optimizer.step()\n",
    "  # zera os gradientes após a atualização\n",
    "  optimizer.zero_grad()\n",
    "  if (epoch+1)%10 == 0:\n",
    "    w,b = model.parameters()\n",
    "    print(epoch+1, w[0][0].item(), l.item())\n",
    "\n",
    "# Teste\n",
    "X_test = torch.tensor([5], dtype=torch.float32)\n",
    "print(model(X_test))"
   ]
  },
  {
   "cell_type": "code",
   "execution_count": 7,
   "id": "82805aa1-d384-4f24-a183-7835eaca4bef",
   "metadata": {},
   "outputs": [
    {
     "data": {
      "image/png": "[encoded data removed]",
      "text/plain": [
       "<Figure size 640x480 with 1 Axes>"
      ]
     },
     "metadata": {},
     "output_type": "display_data"
    }
   ],
   "source": [
    "import matplotlib.pyplot as plt\n",
    "w,b = model.parameters()\n",
    "w = w.detach().numpy()\n",
    "b = b.detach().numpy()\n",
    "\n",
    "plt.scatter(X.numpy(), Y.numpy())\n",
    "plt.plot(X.numpy(), w*X.numpy()+b, 'r')\n",
    "plt.show()"
   ]
  },
  {
   "cell_type": "code",
   "execution_count": null,
   "id": "7d97ac6f-3fe4-4e38-b67a-73503559e96b",
   "metadata": {},
   "outputs": [],
   "source": []
  }
 ],
 "metadata": {
  "kernelspec": {
   "display_name": "Python 3 (ipykernel)",
   "language": "python",
   "name": "python3"
  },
  "language_info": {
   "codemirror_mode": {
    "name": "ipython",
    "version": 3
   },
   "file_extension": ".py",
   "mimetype": "text/x-python",
   "name": "python",
   "nbconvert_exporter": "python",
   "pygments_lexer": "ipython3",
   "version": "3.9.20"
  }
 },
 "nbformat": 4,
 "nbformat_minor": 5
}
