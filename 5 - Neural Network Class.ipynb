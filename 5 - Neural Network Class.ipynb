{
 "cells": [
  {
   "cell_type": "markdown",
   "id": "8f33cae3-a7bd-41bb-84b6-95a64dd33639",
   "metadata": {},
   "source": [
    "<font color='blue'><h1>Introdução Prática ao PyTorch</h1></font>\n",
    "<font color='0471A6'><h2>Rede Neural em PyTorch (Visão Geral)</h2></font>"
   ]
  },
  {
   "cell_type": "code",
   "execution_count": 2,
   "id": "b8fc7e8b-b449-497a-ba0c-df91bfca8c97",
   "metadata": {},
   "outputs": [
    {
     "name": "stdout",
     "output_type": "stream",
     "text": [
      "tensor([[0.4873]], grad_fn=<SigmoidBackward0>)\n",
      "0.4873144328594208\n"
     ]
    }
   ],
   "source": [
    "'''\n",
    "Exemplo Simples de Rede Neural em PyTorch\n",
    "(Utilizando o nn.Sequential)\n",
    "'''\n",
    "\n",
    "# Define a Rede Neural\n",
    "import torch\n",
    "import torch.nn as nn\n",
    "\n",
    "class Net(nn.Module):\n",
    "    def __init__(self):\n",
    "        super(Net, self).__init__()\n",
    "        self.seq = nn.Sequential(\n",
    "            nn.Linear(4, 8),\n",
    "            nn.Sigmoid(),\n",
    "            nn.Linear(8, 1),\n",
    "            nn.Sigmoid()\n",
    "        )\n",
    "        \n",
    "    def forward(self, x):\n",
    "        return self.seq(x)\n",
    "\n",
    "# Cria uma instância da classe\n",
    "net = Net()\n",
    "\n",
    "# Exemplo de Feed-Forward\n",
    "input_data = torch.tensor([[1.0, 2.0, 3.0, 4.0]])\n",
    "output = net(input_data)\n",
    "print(output)\n",
    "print(output.item())"
   ]
  },
  {
   "cell_type": "code",
   "execution_count": 3,
   "id": "a3be2d35-08eb-4c44-9271-ef1340f63c2e",
   "metadata": {},
   "outputs": [
    {
     "name": "stdout",
     "output_type": "stream",
     "text": [
      "tensor([[0.2987]], grad_fn=<SigmoidBackward0>)\n",
      "0.2986525893211365\n"
     ]
    }
   ],
   "source": [
    "'''\n",
    "Exemplo Simples de Rede Neural em PyTorch\n",
    "(Sem utilizar o nn.Sequential - Mais Flexibilidade!)\n",
    "'''\n",
    "\n",
    "import torch\n",
    "import torch.nn as nn\n",
    "\n",
    "class Net(nn.Module):\n",
    "    def __init__(self):\n",
    "        super(Net, self).__init__()\n",
    "        self.fc1 = nn.Linear(4, 8)\n",
    "        self.fc2 = nn.Linear(8, 1)\n",
    "        self.sigmoid = nn.Sigmoid()\n",
    "        \n",
    "    def forward(self, x):\n",
    "        x = self.fc1(x)\n",
    "        x = self.sigmoid(x)\n",
    "        x = self.fc2(x)\n",
    "        x = self.sigmoid(x)\n",
    "        return x\n",
    "\n",
    "# Cria uma instância da classe\n",
    "net = Net()\n",
    "\n",
    "# Exemplo de Feed-Forward\n",
    "input_data = torch.tensor([[1.0, 2.0, 3.0, 4.0]])\n",
    "output = net(input_data)\n",
    "print(output)\n",
    "print(output.item())"
   ]
  },
  {
   "cell_type": "code",
   "execution_count": 4,
   "id": "09227a80-53ed-4d8f-95f3-daaf84a4519e",
   "metadata": {},
   "outputs": [
    {
     "name": "stdout",
     "output_type": "stream",
     "text": [
      "Dispositivo: cuda\n"
     ]
    }
   ],
   "source": [
    "# Obtém o \"device\" para treinamento\n",
    "device = \"cuda\" if torch.cuda.is_available() else \"cpu\"\n",
    "print(f\"Dispositivo: {device}\")\n",
    "\n",
    "# move-se para o dispositivo\n",
    "model = Net().to(device)"
   ]
  },
  {
   "cell_type": "code",
   "execution_count": 5,
   "id": "10e55d3f-9adc-4f2d-be3b-f2f73f12bec4",
   "metadata": {},
   "outputs": [
    {
     "name": "stdout",
     "output_type": "stream",
     "text": [
      "Estrutura da Rede: Net(\n",
      "  (fc1): Linear(in_features=4, out_features=8, bias=True)\n",
      "  (fc2): Linear(in_features=8, out_features=1, bias=True)\n",
      "  (sigmoid): Sigmoid()\n",
      ")\n",
      "\n",
      "\n",
      "Camada: fc1.weight | Size: torch.Size([8, 4])\n",
      "| Valores : tensor([[-0.1007, -0.3197,  0.1680, -0.3032],\n",
      "        [-0.4257,  0.0383, -0.2670,  0.1249]], device='cuda:0',\n",
      "       grad_fn=<SliceBackward0>)... \n",
      "\n",
      "Camada: fc1.bias | Size: torch.Size([8])\n",
      "| Valores : tensor([-0.4315,  0.2424], device='cuda:0', grad_fn=<SliceBackward0>)... \n",
      "\n",
      "Camada: fc2.weight | Size: torch.Size([1, 8])\n",
      "| Valores : tensor([[-0.3372, -0.2840, -0.3524, -0.1453,  0.2820, -0.1466,  0.2536, -0.3121]],\n",
      "       device='cuda:0', grad_fn=<SliceBackward0>)... \n",
      "\n",
      "Camada: fc2.bias | Size: torch.Size([1])\n",
      "| Valores : tensor([0.2877], device='cuda:0', grad_fn=<SliceBackward0>)... \n",
      "\n"
     ]
    }
   ],
   "source": [
    "'''\n",
    "Parâmetros Livres do Modelo (Pesos da Rede)\n",
    "'''\n",
    "print(f\"Estrutura da Rede: {model}\\n\\n\")\n",
    "\n",
    "for name, param in model.named_parameters():\n",
    "    print(f\"Camada: {name} | Size: {param.size()}\")\n",
    "    print(f'| Valores : {param[:2]}... \\n')"
   ]
  },
  {
   "cell_type": "markdown",
   "id": "b132e41b-b9fa-4132-baa5-190dd1b4328d",
   "metadata": {},
   "source": [
    "<font color='0471A6'><h2>Persistência e Carregamento de Modelo</h2></font>"
   ]
  },
  {
   "cell_type": "code",
   "execution_count": 6,
   "id": "1a703c76-a789-49cd-9a7d-0ae499a9b3be",
   "metadata": {},
   "outputs": [
    {
     "data": {
      "text/plain": [
       "OrderedDict([('fc1.weight',\n",
       "              tensor([[-0.1007, -0.3197,  0.1680, -0.3032],\n",
       "                      [-0.4257,  0.0383, -0.2670,  0.1249],\n",
       "                      [-0.1990,  0.0999, -0.1773,  0.3004],\n",
       "                      [-0.1840,  0.1197,  0.4813, -0.2146],\n",
       "                      [-0.0772, -0.2214, -0.4853,  0.4462],\n",
       "                      [ 0.1429, -0.1724,  0.2718, -0.2958],\n",
       "                      [ 0.0070,  0.1838, -0.3497, -0.2996],\n",
       "                      [ 0.0972, -0.0601, -0.2278, -0.2652]], device='cuda:0')),\n",
       "             ('fc1.bias',\n",
       "              tensor([-0.4315,  0.2424,  0.3410, -0.3228, -0.2978,  0.1164,  0.0272, -0.3788],\n",
       "                     device='cuda:0')),\n",
       "             ('fc2.weight',\n",
       "              tensor([[-0.3372, -0.2840, -0.3524, -0.1453,  0.2820, -0.1466,  0.2536, -0.3121]],\n",
       "                     device='cuda:0')),\n",
       "             ('fc2.bias', tensor([0.2877], device='cuda:0'))])"
      ]
     },
     "execution_count": 6,
     "metadata": {},
     "output_type": "execute_result"
    }
   ],
   "source": [
    "# Parâmetros do modelo de rede neural\n",
    "model.state_dict()"
   ]
  },
  {
   "cell_type": "code",
   "execution_count": 16,
   "id": "a714a007-c4ac-48b5-98b4-f5da28caf8d3",
   "metadata": {},
   "outputs": [
    {
     "data": {
      "text/plain": [
       "<All keys matched successfully>"
      ]
     },
     "execution_count": 16,
     "metadata": {},
     "output_type": "execute_result"
    }
   ],
   "source": [
    "# Forma 1\n",
    "# Salva apenas o estado dos pesos do modelo\n",
    "\n",
    "# persistência\n",
    "torch.save(model.state_dict(), '/tmp/model-weights.pth')\n",
    "\n",
    "# carregamento\n",
    "model = Net()\n",
    "model.load_state_dict(torch.load('/tmp/model-weights.pth', weights_only=True))"
   ]
  },
  {
   "cell_type": "code",
   "execution_count": 20,
   "id": "9ab2097f-3284-48d6-a95d-7c3225b4daf2",
   "metadata": {},
   "outputs": [
    {
     "name": "stderr",
     "output_type": "stream",
     "text": [
      "/tmp/ipykernel_26951/3952427807.py:8: FutureWarning: You are using `torch.load` with `weights_only=False` (the current default value), which uses the default pickle module implicitly. It is possible to construct malicious pickle data which will execute arbitrary code during unpickling (See https://github.com/pytorch/pytorch/blob/main/SECURITY.md#untrusted-models for more details). In a future release, the default value for `weights_only` will be flipped to `True`. This limits the functions that could be executed during unpickling. Arbitrary objects will no longer be allowed to be loaded via this mode unless they are explicitly allowlisted by the user via `torch.serialization.add_safe_globals`. We recommend you start setting `weights_only=True` for any use case where you don't have full control of the loaded file. Please open an issue on GitHub for any issues related to this experimental feature.\n",
      "  model = torch.load('/tmp/model.pth')\n"
     ]
    }
   ],
   "source": [
    "# Forma 2 (usa internamente o módulo pickle para serialização)\n",
    "# Salva-se todo o objeto do modelo\n",
    "\n",
    "# persistência\n",
    "torch.save(model, '/tmp/model.pth')\n",
    "\n",
    "# carregamento\n",
    "model = torch.load('/tmp/model.pth')"
   ]
  },
  {
   "cell_type": "markdown",
   "id": "75c2170d-5f74-4fa5-9f06-abb9292483d3",
   "metadata": {},
   "source": [
    "# Referências \n",
    "\n",
    "* Documentação do Pytorch. Disponível em https://pytorch.org \n",
    "* Tutorial oficial do Pytorch. Disponível em https://pytorch.org/tutorials/beginner/basics/intro.html \n",
    "* Introdução ao Pytorch. Canal “Programação Dinâmica”. Disponível em https://www.youtube.com/watch?v=cGxv8tOaA7I \n",
    "* PyTorch Crash Course - Getting Started with Deep Learning. Canal AssemblyAI\". Disponível em https://youtu.be/OIenNRt2bjg \n"
   ]
  },
  {
   "cell_type": "code",
   "execution_count": null,
   "id": "fe3412c4-cf4e-4969-8eae-aa0e3ff4ad70",
   "metadata": {},
   "outputs": [],
   "source": []
  }
 ],
 "metadata": {
  "kernelspec": {
   "display_name": "Pytorch Overview (Python 3.9)",
   "language": "python",
   "name": "py39pytorchoverview"
  },
  "language_info": {
   "codemirror_mode": {
    "name": "ipython",
    "version": 3
   },
   "file_extension": ".py",
   "mimetype": "text/x-python",
   "name": "python",
   "nbconvert_exporter": "python",
   "pygments_lexer": "ipython3",
   "version": "3.9.20"
  }
 },
 "nbformat": 4,
 "nbformat_minor": 5
}
