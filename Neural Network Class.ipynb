{
 "cells": [
  {
   "cell_type": "markdown",
   "id": "8f33cae3-a7bd-41bb-84b6-95a64dd33639",
   "metadata": {},
   "source": [
    "<font color='blue'><h1>Introdução Prática ao PyTorch</h1></font>\n",
    "<font color='0471A6'><h2>Rede Neural em PyTorch (Visão Geral)</h2></font>"
   ]
  },
  {
   "cell_type": "code",
   "execution_count": 2,
   "id": "b8fc7e8b-b449-497a-ba0c-df91bfca8c97",
   "metadata": {},
   "outputs": [
    {
     "name": "stdout",
     "output_type": "stream",
     "text": [
      "tensor([[0.4873]], grad_fn=<SigmoidBackward0>)\n",
      "0.4873144328594208\n"
     ]
    }
   ],
   "source": [
    "'''\n",
    "Exemplo Simples de Rede Neural em PyTorch\n",
    "(Utilizando o nn.Sequential)\n",
    "'''\n",
    "\n",
    "# Define a Rede Neural\n",
    "import torch\n",
    "import torch.nn as nn\n",
    "\n",
    "class Net(nn.Module):\n",
    "    def __init__(self):\n",
    "        super(Net, self).__init__()\n",
    "        self.seq = nn.Sequential(\n",
    "            nn.Linear(4, 8),\n",
    "            nn.Sigmoid(),\n",
    "            nn.Linear(8, 1),\n",
    "            nn.Sigmoid()\n",
    "        )\n",
    "        \n",
    "    def forward(self, x):\n",
    "        return self.seq(x)\n",
    "\n",
    "# Cria uma instância da classe\n",
    "net = Net()\n",
    "\n",
    "# Exemplo de Feed-Forward\n",
    "input_data = torch.tensor([[1.0, 2.0, 3.0, 4.0]])\n",
    "output = net(input_data)\n",
    "print(output)\n",
    "print(output.item())"
   ]
  },
  {
   "cell_type": "code",
   "execution_count": 3,
   "id": "a3be2d35-08eb-4c44-9271-ef1340f63c2e",
   "metadata": {},
   "outputs": [
    {
     "name": "stdout",
     "output_type": "stream",
     "text": [
      "tensor([[0.2987]], grad_fn=<SigmoidBackward0>)\n",
      "0.2986525893211365\n"
     ]
    }
   ],
   "source": [
    "'''\n",
    "Exemplo Simples de Rede Neural em PyTorch\n",
    "(Sem utilizar o nn.Sequential - Mais Flexibilidade!)\n",
    "'''\n",
    "\n",
    "import torch\n",
    "import torch.nn as nn\n",
    "\n",
    "class Net(nn.Module):\n",
    "    def __init__(self):\n",
    "        super(Net, self).__init__()\n",
    "        self.fc1 = nn.Linear(4, 8)\n",
    "        self.fc2 = nn.Linear(8, 1)\n",
    "        self.sigmoid = nn.Sigmoid()\n",
    "        \n",
    "    def forward(self, x):\n",
    "        x = self.fc1(x)\n",
    "        x = self.sigmoid(x)\n",
    "        x = self.fc2(x)\n",
    "        x = self.sigmoid(x)\n",
    "        return x\n",
    "\n",
    "# Cria uma instância da classe\n",
    "net = Net()\n",
    "\n",
    "# Exemplo de Feed-Forward\n",
    "input_data = torch.tensor([[1.0, 2.0, 3.0, 4.0]])\n",
    "output = net(input_data)\n",
    "print(output)\n",
    "print(output.item())"
   ]
  },
  {
   "cell_type": "code",
   "execution_count": 4,
   "id": "09227a80-53ed-4d8f-95f3-daaf84a4519e",
   "metadata": {},
   "outputs": [
    {
     "name": "stdout",
     "output_type": "stream",
     "text": [
      "Dispositivo: cuda\n"
     ]
    }
   ],
   "source": [
    "# Obtém o \"device\" para treinamento\n",
    "device = \"cuda\" if torch.cuda.is_available() else \"cpu\"\n",
    "print(f\"Dispositivo: {device}\")\n",
    "\n",
    "# move-se para o dispositivo\n",
    "model = Net().to(device)"
   ]
  },
  {
   "cell_type": "code",
   "execution_count": 5,
   "id": "10e55d3f-9adc-4f2d-be3b-f2f73f12bec4",
   "metadata": {},
   "outputs": [
    {
     "name": "stdout",
     "output_type": "stream",
     "text": [
      "Estrutura da Rede: Net(\n",
      "  (fc1): Linear(in_features=4, out_features=8, bias=True)\n",
      "  (fc2): Linear(in_features=8, out_features=1, bias=True)\n",
      "  (sigmoid): Sigmoid()\n",
      ")\n",
      "\n",
      "\n",
      "Camada: fc1.weight | Size: torch.Size([8, 4])\n",
      "| Valores : tensor([[-0.1007, -0.3197,  0.1680, -0.3032],\n",
      "        [-0.4257,  0.0383, -0.2670,  0.1249]], device='cuda:0',\n",
      "       grad_fn=<SliceBackward0>)... \n",
      "\n",
      "Camada: fc1.bias | Size: torch.Size([8])\n",
      "| Valores : tensor([-0.4315,  0.2424], device='cuda:0', grad_fn=<SliceBackward0>)... \n",
      "\n",
      "Camada: fc2.weight | Size: torch.Size([1, 8])\n",
      "| Valores : tensor([[-0.3372, -0.2840, -0.3524, -0.1453,  0.2820, -0.1466,  0.2536, -0.3121]],\n",
      "       device='cuda:0', grad_fn=<SliceBackward0>)... \n",
      "\n",
      "Camada: fc2.bias | Size: torch.Size([1])\n",
      "| Valores : tensor([0.2877], device='cuda:0', grad_fn=<SliceBackward0>)... \n",
      "\n"
     ]
    }
   ],
   "source": [
    "'''\n",
    "Parâmetros Livres do Modelo (Pesos da Rede)\n",
    "'''\n",
    "print(f\"Estrutura da Rede: {model}\\n\\n\")\n",
    "\n",
    "for name, param in model.named_parameters():\n",
    "    print(f\"Camada: {name} | Size: {param.size()}\")\n",
    "    print(f'| Valores : {param[:2]}... \\n')"
   ]
  },
  {
   "cell_type": "code",
   "execution_count": null,
   "id": "34e55487-715b-4b06-a793-bcbebf5b0118",
   "metadata": {},
   "outputs": [],
   "source": []
  }
 ],
 "metadata": {
  "kernelspec": {
   "display_name": "Pytorch Overview (Python 3.9)",
   "language": "python",
   "name": "py39pytorchoverview"
  },
  "language_info": {
   "codemirror_mode": {
    "name": "ipython",
    "version": 3
   },
   "file_extension": ".py",
   "mimetype": "text/x-python",
   "name": "python",
   "nbconvert_exporter": "python",
   "pygments_lexer": "ipython3",
   "version": "3.9.20"
  }
 },
 "nbformat": 4,
 "nbformat_minor": 5
}
