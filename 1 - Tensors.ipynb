{
 "cells": [
  {
   "cell_type": "markdown",
   "id": "e269a559-9ada-48bb-bf68-3688651687bf",
   "metadata": {},
   "source": [
    "<font color='blue'><h1>Introdução Prática ao PyTorch</h1></font>\n",
    "<font color='blue'><h2>Tensores</h2></font>"
   ]
  },
  {
   "cell_type": "markdown",
   "id": "fbc1f9af-42f9-4706-8a3d-93763edc9dcd",
   "metadata": {},
   "source": [
    "**Framework Pytorch**\n",
    "- Uma biblioteca de tensores otimizada para Deep Learning via GPUs e CPUs\n",
    "\n",
    "**Instruções de Instalação**:\n",
    "- https://pytorch.org/get-started/locally/"
   ]
  },
  {
   "cell_type": "markdown",
   "id": "35dae0e5-9eff-4e60-9ffa-e0758f0f89d2",
   "metadata": {},
   "source": [
    "<font color='0471A6'><h2>⭐ Tensores em PyTorch</h2></font>\n",
    "\n",
    "\n",
    "- Estruturas de dados semelhantes aos arrays e matrizes\n",
    "- Similares aos arrays do Numpy, mas também ser executados em GPU\n",
    "- Otimizados para diferenciação automática (Recurso *AutoGrad*)"
   ]
  },
  {
   "cell_type": "code",
   "execution_count": 2,
   "id": "6f654f42-3b5b-4e0c-bbcc-955580cfde08",
   "metadata": {},
   "outputs": [],
   "source": [
    "'''\n",
    "Exemplos de Tensores em PyTorch\n",
    "(Vários dos Exemplos estão disponíveis na documentação oficial)\n",
    "https://pytorch.org/tutorials/beginner/basics/tensorqs_tutorial.html\n",
    "'''\n",
    "\n",
    "import torch\n",
    "import numpy as np"
   ]
  },
  {
   "cell_type": "code",
   "execution_count": 47,
   "id": "39b5036e-c149-40ed-9c36-1d2294502c3b",
   "metadata": {},
   "outputs": [
    {
     "data": {
      "text/plain": [
       "(tensor([[1, 2],\n",
       "         [3, 4]]),\n",
       " torch.int64)"
      ]
     },
     "execution_count": 47,
     "metadata": {},
     "output_type": "execute_result"
    }
   ],
   "source": [
    "data = [[1, 2],[3, 4]]\n",
    "x_data = torch.tensor(data)\n",
    "\n",
    "x_data, x_data.dtype"
   ]
  },
  {
   "cell_type": "code",
   "execution_count": 49,
   "id": "5be151b7-bbaa-4164-a9e9-2d5ab6e6813d",
   "metadata": {},
   "outputs": [
    {
     "name": "stdout",
     "output_type": "stream",
     "text": [
      "torch.float32\n"
     ]
    }
   ],
   "source": [
    "# data type\n",
    "print(x.dtype)"
   ]
  },
  {
   "cell_type": "code",
   "execution_count": 44,
   "id": "42f12d1a-2c94-4250-a46b-47f7949bf628",
   "metadata": {},
   "outputs": [
    {
     "data": {
      "text/plain": [
       "(tensor([[1, 2],\n",
       "         [3, 4]]),\n",
       " torch.int64)"
      ]
     },
     "execution_count": 44,
     "metadata": {},
     "output_type": "execute_result"
    }
   ],
   "source": [
    "np_array = np.array(data)\n",
    "x_np = torch.from_numpy(np_array)\n",
    "\n",
    "x_np, x_np.dtype"
   ]
  },
  {
   "cell_type": "code",
   "execution_count": 52,
   "id": "bafe9784-4e67-4f97-b8c8-830571aec991",
   "metadata": {},
   "outputs": [
    {
     "data": {
      "text/plain": [
       "(tensor([[3.8235e-40, 0.0000e+00],\n",
       "         [0.0000e+00, 1.1755e-38]]),\n",
       " torch.float32)"
      ]
     },
     "execution_count": 52,
     "metadata": {},
     "output_type": "execute_result"
    }
   ],
   "source": [
    "# tensor vazio\n",
    "x = torch.empty(1) \n",
    "x = torch.empty(3) \n",
    "x = torch.empty(2,2)\n",
    "\n",
    "x, x.dtype"
   ]
  },
  {
   "cell_type": "code",
   "execution_count": 53,
   "id": "ecc0e20a-f236-44df-8142-c892a544da1d",
   "metadata": {},
   "outputs": [
    {
     "data": {
      "text/plain": [
       "tensor([[1, 1],\n",
       "        [1, 1]])"
      ]
     },
     "execution_count": 53,
     "metadata": {},
     "output_type": "execute_result"
    }
   ],
   "source": [
    "# Tensor a partir de um array Numpy\n",
    "x_ones = torch.ones_like(x_data)\n",
    "x_ones"
   ]
  },
  {
   "cell_type": "code",
   "execution_count": 54,
   "id": "65bae841-3e94-40a7-9395-fb178f94ea9c",
   "metadata": {},
   "outputs": [
    {
     "data": {
      "text/plain": [
       "tensor([[0.5044, 0.1437],\n",
       "        [0.7540, 0.5121]])"
      ]
     },
     "execution_count": 54,
     "metadata": {},
     "output_type": "execute_result"
    }
   ],
   "source": [
    "# Tensor a partir de um array Numpy\n",
    "x_rand = torch.rand_like(x_data, dtype=torch.float)\n",
    "x_rand"
   ]
  },
  {
   "cell_type": "code",
   "execution_count": 55,
   "id": "3d27b99c-9a3a-4d5f-af5b-5f90152361f9",
   "metadata": {},
   "outputs": [
    {
     "data": {
      "text/plain": [
       "tensor([[0., 0., 0.],\n",
       "        [0., 0., 0.]])"
      ]
     },
     "execution_count": 55,
     "metadata": {},
     "output_type": "execute_result"
    }
   ],
   "source": [
    "shape = (2,3,)\n",
    "rand_tensor = torch.rand(shape)\n",
    "ones_tensor = torch.ones(shape)\n",
    "zeros_tensor = torch.zeros(shape)\n",
    "\n",
    "zeros_tensor"
   ]
  },
  {
   "cell_type": "code",
   "execution_count": 56,
   "id": "ba13e584-8233-4889-ad38-0ff15da8f72b",
   "metadata": {},
   "outputs": [],
   "source": [
    "# especifica o tipo\n",
    "x = torch.zeros(5,3, dtype=torch.float)\n",
    "x = torch.ones(5,3, dtype=torch.float)"
   ]
  },
  {
   "cell_type": "code",
   "execution_count": 15,
   "id": "b65fc9e9-d45a-4e34-8e5b-68eca05bccdd",
   "metadata": {},
   "outputs": [
    {
     "name": "stdout",
     "output_type": "stream",
     "text": [
      "Shape of tensor: torch.Size([3, 4])\n",
      "Datatype of tensor: torch.float32\n",
      "Device tensor is stored on: cpu\n"
     ]
    }
   ],
   "source": [
    "tensor = torch.rand(3,4)\n",
    "\n",
    "print(f\"Shape of tensor: {tensor.shape}\")\n",
    "print(f\"Datatype of tensor: {tensor.dtype}\")\n",
    "print(f\"Device tensor is stored on: {tensor.device}\")"
   ]
  },
  {
   "cell_type": "code",
   "execution_count": 17,
   "id": "97ba7f05-caf9-448e-a736-de0308c90518",
   "metadata": {},
   "outputs": [
    {
     "name": "stdout",
     "output_type": "stream",
     "text": [
      "GPU disponível!\n"
     ]
    }
   ],
   "source": [
    "if torch.cuda.is_available():\n",
    "    print(\"GPU disponível!\")\n",
    "else:\n",
    "    print(\"Não há GPUs disponíveis. Vamos usar a  CPU.\")"
   ]
  },
  {
   "cell_type": "code",
   "execution_count": 18,
   "id": "b246c634-e79a-402e-a7f5-f44f414b5222",
   "metadata": {},
   "outputs": [
    {
     "data": {
      "text/plain": [
       "1"
      ]
     },
     "execution_count": 18,
     "metadata": {},
     "output_type": "execute_result"
    }
   ],
   "source": [
    "torch.cuda.device_count()"
   ]
  },
  {
   "cell_type": "code",
   "execution_count": 19,
   "id": "789c3ae5-7bb4-4852-8b1c-c19c1597dd23",
   "metadata": {},
   "outputs": [],
   "source": [
    "# Move o tensor para a GPU (Se disponível)\n",
    "tensor = torch.rand(3,4)\n",
    "if torch.cuda.is_available():\n",
    "  tensor = tensor.to('cuda')"
   ]
  },
  {
   "cell_type": "code",
   "execution_count": 20,
   "id": "eac822f5-b99e-4429-b1c4-3c2165e29089",
   "metadata": {},
   "outputs": [],
   "source": [
    "# Move o tensor para a GPU (Se disponível)\n",
    "tensor = torch.rand(3,4)\n",
    "if torch.cuda.is_available():\n",
    "  tensor = tensor.to('cuda:0')"
   ]
  },
  {
   "cell_type": "code",
   "execution_count": 21,
   "id": "901e527a-d867-4e51-9e73-66685b796aa0",
   "metadata": {},
   "outputs": [
    {
     "name": "stdout",
     "output_type": "stream",
     "text": [
      "First row:  tensor([0.9709, 0.8428, 0.1271, 0.6474])\n",
      "First column:  tensor([0.9709, 0.7422, 0.6711, 0.6251])\n",
      "Last column: tensor([0.6474, 0.2816, 0.3847, 0.1289])\n",
      "tensor([[0.9709, 0.0000, 0.1271, 0.6474],\n",
      "        [0.7422, 0.0000, 0.0177, 0.2816],\n",
      "        [0.6711, 0.0000, 0.3947, 0.3847],\n",
      "        [0.6251, 0.0000, 0.0696, 0.1289]])\n"
     ]
    }
   ],
   "source": [
    "tensor = torch.rand(4, 4)\n",
    "print('First row: ',tensor[0])\n",
    "print('First column: ', tensor[:, 0])\n",
    "print('Last column:', tensor[..., -1])\n",
    "tensor[:,1] = 0\n",
    "print(tensor)"
   ]
  },
  {
   "cell_type": "code",
   "execution_count": 22,
   "id": "3446c653-58a0-40e5-ad84-df2ef88a378f",
   "metadata": {},
   "outputs": [
    {
     "name": "stdout",
     "output_type": "stream",
     "text": [
      "torch.Size([4, 4])\n",
      "torch.Size([4, 12])\n"
     ]
    }
   ],
   "source": [
    "# concatenação de tensores\n",
    "print(tensor.shape)\n",
    "\n",
    "t1 = torch.cat([tensor, tensor, tensor], dim=1) # col dim\n",
    "print(t1.shape)"
   ]
  },
  {
   "cell_type": "code",
   "execution_count": 23,
   "id": "737c04d1-a50a-48b6-92ea-6d11ca21d774",
   "metadata": {},
   "outputs": [
    {
     "name": "stdout",
     "output_type": "stream",
     "text": [
      "torch.Size([12, 4])\n"
     ]
    }
   ],
   "source": [
    "# concatenação de tensores\n",
    "t1 = torch.cat([tensor, tensor, tensor], dim=0) # row dim\n",
    "print(t1.shape)"
   ]
  },
  {
   "cell_type": "code",
   "execution_count": 25,
   "id": "c4b54027-4611-48db-b16f-1a19dce1df5a",
   "metadata": {},
   "outputs": [
    {
     "data": {
      "text/plain": [
       "(tensor([[0.9709, 0.0000, 0.1271, 0.6474],\n",
       "         [0.7422, 0.0000, 0.0177, 0.2816],\n",
       "         [0.6711, 0.0000, 0.3947, 0.3847],\n",
       "         [0.6251, 0.0000, 0.0696, 0.1289]]),\n",
       " tensor([[1.3780, 0.9052, 0.9508, 0.6992],\n",
       "         [0.9052, 0.6305, 0.6134, 0.5014],\n",
       "         [0.9508, 0.6134, 0.7541, 0.4965],\n",
       "         [0.6992, 0.5014, 0.4965, 0.4122]]),\n",
       " tensor([[1.3780, 0.9052, 0.9508, 0.6992],\n",
       "         [0.9052, 0.6305, 0.6134, 0.5014],\n",
       "         [0.9508, 0.6134, 0.7541, 0.4965],\n",
       "         [0.6992, 0.5014, 0.4965, 0.4122]]),\n",
       " tensor([[1.3780, 0.9052, 0.9508, 0.6992],\n",
       "         [0.9052, 0.6305, 0.6134, 0.5014],\n",
       "         [0.9508, 0.6134, 0.7541, 0.4965],\n",
       "         [0.6992, 0.5014, 0.4965, 0.4122]]))"
      ]
     },
     "execution_count": 25,
     "metadata": {},
     "output_type": "execute_result"
    }
   ],
   "source": [
    "# Multiplicação de Matrizes entre os tensores (y1, y2 e y3 terão o mesmo valor)\n",
    "\n",
    "y1 = tensor @ tensor.T\n",
    "y2 = tensor.matmul(tensor.T)\n",
    "\n",
    "y3 = torch.rand_like(tensor)\n",
    "torch.matmul(tensor, tensor.T, out=y3)\n",
    "\n",
    "tensor, y1, y2, y3"
   ]
  },
  {
   "cell_type": "code",
   "execution_count": 26,
   "id": "c032de07-eee7-44f4-88b5-20377066e243",
   "metadata": {},
   "outputs": [
    {
     "name": "stdout",
     "output_type": "stream",
     "text": [
      "5.060935974121094 <class 'float'>\n"
     ]
    }
   ],
   "source": [
    "agg = tensor.sum()\n",
    "agg_item = agg.item()\n",
    "print(agg_item, type(agg_item))"
   ]
  },
  {
   "cell_type": "code",
   "execution_count": 27,
   "id": "0ceab578-1a74-43d9-ae24-0b069ba5354b",
   "metadata": {},
   "outputs": [
    {
     "name": "stdout",
     "output_type": "stream",
     "text": [
      "t: tensor([1., 1., 1., 1., 1.])\n",
      "n: [1. 1. 1. 1. 1.]\n"
     ]
    }
   ],
   "source": [
    "t = torch.ones(5)\n",
    "print(f\"t: {t}\")\n",
    "n = t.numpy()\n",
    "print(f\"n: {n}\")"
   ]
  },
  {
   "cell_type": "code",
   "execution_count": 32,
   "id": "ae9fcb6b-f84d-4255-9c58-a058944ade32",
   "metadata": {},
   "outputs": [
    {
     "data": {
      "text/plain": [
       "(array([[1., 1., 1., 1., 1.],\n",
       "        [1., 1., 1., 1., 1.],\n",
       "        [1., 1., 1., 1., 1.],\n",
       "        [1., 1., 1., 1., 1.],\n",
       "        [1., 1., 1., 1., 1.]], dtype=float32),\n",
       " dtype('float32'))"
      ]
     },
     "execution_count": 32,
     "metadata": {},
     "output_type": "execute_result"
    }
   ],
   "source": [
    "t = torch.ones(5,5)\n",
    "a_numpy_array = t.numpy()\n",
    "\n",
    "a_numpy_array, a_numpy_array.dtype"
   ]
  },
  {
   "cell_type": "code",
   "execution_count": 34,
   "id": "94c8ed34-dd48-47fb-8b5f-045eaf57bc36",
   "metadata": {},
   "outputs": [
    {
     "data": {
      "text/plain": [
       "(tensor([[-1.0399,  1.3423, -1.2026],\n",
       "         [ 0.2354, -0.2294, -0.2538]]),\n",
       " device(type='cpu'))"
      ]
     },
     "execution_count": 34,
     "metadata": {},
     "output_type": "execute_result"
    }
   ],
   "source": [
    "# Criar um tensor em um dispositivo selecionadotensor\n",
    "tensor = torch.randn(2, 3).to(\"cpu\")\n",
    "tensor, tensor.device"
   ]
  },
  {
   "cell_type": "code",
   "execution_count": 39,
   "id": "ebf7792c-c185-4cc8-8405-184dbb72b4dd",
   "metadata": {},
   "outputs": [
    {
     "data": {
      "text/plain": [
       "(tensor([[-0.1456, -0.3950,  0.5641],\n",
       "         [-0.0854, -0.4671, -0.8912]], device='cuda:0'),\n",
       " device(type='cuda', index=0))"
      ]
     },
     "execution_count": 39,
     "metadata": {},
     "output_type": "execute_result"
    }
   ],
   "source": [
    "# Criar um tensor em um dispositivo selecionadotensor\n",
    "tensor = torch.randn(2, 3).to(\"cuda:0\")\n",
    "tensor, tensor.device"
   ]
  },
  {
   "cell_type": "code",
   "execution_count": 67,
   "id": "c3610a25-d314-4ae8-a761-775021efb209",
   "metadata": {},
   "outputs": [],
   "source": [
    "t = torch.randn(2, 3).to(\"cuda:0\")\n",
    "t = t.cpu() # move o tensor da memória da Gpu para a memória da Cpu\n",
    "a_numpy_array = t.numpy()"
   ]
  },
  {
   "cell_type": "code",
   "execution_count": 69,
   "id": "e21c9dbb-7fe6-4342-9977-ae9f5f43fa81",
   "metadata": {},
   "outputs": [],
   "source": [
    "# suporte à gpu\n",
    "device = torch.device('cuda' if torch.cuda.is_available() else 'cpu')\n",
    "device = torch.device('cuda:0' if torch.cuda.is_available() else 'cpu')\n",
    "x = torch.rand(2,3).to(device)\n",
    "x = torch.rand(2,3, device = device)"
   ]
  },
  {
   "cell_type": "code",
   "execution_count": 3,
   "id": "ee437005-78c2-4841-8d4e-657680b4565a",
   "metadata": {},
   "outputs": [
    {
     "ename": "NameError",
     "evalue": "name 'tensor' is not defined",
     "output_type": "error",
     "traceback": [
      "\u001b[0;31m---------------------------------------------------------------------------\u001b[0m",
      "\u001b[0;31mNameError\u001b[0m                                 Traceback (most recent call last)",
      "Cell \u001b[0;32mIn[3], line 3\u001b[0m\n\u001b[1;32m      1\u001b[0m \u001b[38;5;66;03m# Mover o tensor para a GPU\u001b[39;00m\n\u001b[1;32m      2\u001b[0m \u001b[38;5;28;01mif\u001b[39;00m torch\u001b[38;5;241m.\u001b[39mcuda\u001b[38;5;241m.\u001b[39mis_available():\n\u001b[0;32m----> 3\u001b[0m     tensor \u001b[38;5;241m=\u001b[39m \u001b[43mtensor\u001b[49m\u001b[38;5;241m.\u001b[39mto(\u001b[38;5;124m\"\u001b[39m\u001b[38;5;124mcuda\u001b[39m\u001b[38;5;124m\"\u001b[39m)\n",
      "\u001b[0;31mNameError\u001b[0m: name 'tensor' is not defined"
     ]
    }
   ],
   "source": [
    "# Mover o tensor para a GPU\n",
    "if torch.cuda.is_available():\n",
    "    tensor = tensor.to(\"cuda\")"
   ]
  },
  {
   "cell_type": "code",
   "execution_count": null,
   "id": "06657c10-8eb8-4bbb-b68e-92a3dcac9683",
   "metadata": {},
   "outputs": [],
   "source": []
  },
  {
   "cell_type": "code",
   "execution_count": null,
   "id": "80641b95-f4a9-4b71-ada2-cd0b465b281f",
   "metadata": {},
   "outputs": [],
   "source": []
  },
  {
   "cell_type": "code",
   "execution_count": 4,
   "id": "8ce11522-7b7b-4049-9183-d0f682ee6276",
   "metadata": {},
   "outputs": [
    {
     "name": "stdout",
     "output_type": "stream",
     "text": [
      "torch.Size([4, 4]) torch.Size([16]) torch.Size([2, 8])\n"
     ]
    }
   ],
   "source": [
    "# Redimensiona com torch.view()\n",
    "x = torch.randn(4,4)\n",
    "y = x.view(16)\n",
    "z = x.view(-1, 8)\n",
    "\n",
    "print(x.size(), y.size(), z.size())"
   ]
  },
  {
   "cell_type": "code",
   "execution_count": 7,
   "id": "fc3e062e-5360-4877-83e4-940428d293bc",
   "metadata": {},
   "outputs": [
    {
     "data": {
      "text/plain": [
       "tensor([[-0.4422, -0.9332, -0.9442,  1.0218],\n",
       "        [-2.2616,  2.6691, -0.7213,  2.0097],\n",
       "        [-1.9261,  0.5379,  3.0758, -1.5125],\n",
       "        [-0.2600, -1.6334,  0.2398, -2.2586]], device='cuda:0')"
      ]
     },
     "execution_count": 7,
     "metadata": {},
     "output_type": "execute_result"
    }
   ],
   "source": [
    "x1 = torch.randn(4,4).to(\"cuda:0\")\n",
    "x2 = torch.randn(4,4).to(\"cuda:0\")\n",
    "x1+x2"
   ]
  },
  {
   "cell_type": "code",
   "execution_count": 57,
   "id": "b892b95b-a41f-44d0-b31a-88e28a4c9eda",
   "metadata": {},
   "outputs": [
    {
     "name": "stdout",
     "output_type": "stream",
     "text": [
      "torch.Size([150, 4])\n",
      "torch.Size([600])\n"
     ]
    }
   ],
   "source": [
    "tensor = torch.rand(150,4)\n",
    "print(tensor.shape)\n",
    "\n",
    "# redimensiona o tensor como um vetor unidimensional\n",
    "print(tensor.view(-1).shape)"
   ]
  },
  {
   "cell_type": "code",
   "execution_count": 61,
   "id": "0ec623f5-5251-4724-a6e9-deb72b2a9300",
   "metadata": {},
   "outputs": [
    {
     "name": "stdout",
     "output_type": "stream",
     "text": [
      "torch.Size([1, 12])\n"
     ]
    }
   ],
   "source": [
    "# redimensiona o tensor como um vetor unidimensional\n",
    "# adicionando uma dimensão no início\n",
    "tensor = torch.rand(3,4)\n",
    "print(tensor.view(1, -1).shape)"
   ]
  },
  {
   "cell_type": "code",
   "execution_count": 63,
   "id": "e296b6fa-907d-4222-bcc2-0e3c744a06a2",
   "metadata": {},
   "outputs": [
    {
     "name": "stdout",
     "output_type": "stream",
     "text": [
      "torch.Size([64, 1, 512, 512])\n",
      "torch.Size([64, 512, 512])\n"
     ]
    }
   ],
   "source": [
    "images = torch.randn(64, 1, 512, 512)\n",
    "print(images.shape)\n",
    "\n",
    "# Remove a dimensao 1\n",
    "images_squeezed = images.squeeze(dim=1)\n",
    "print(images_squeezed.shape)"
   ]
  },
  {
   "cell_type": "code",
   "execution_count": 64,
   "id": "38b2ebf4-f1b8-42be-87b9-6e6acb74f347",
   "metadata": {},
   "outputs": [
    {
     "name": "stdout",
     "output_type": "stream",
     "text": [
      "torch.Size([64, 1, 512, 512])\n"
     ]
    }
   ],
   "source": [
    "# Adiciona dimensao de tamanho 1\n",
    "images_unsqueezed = images_squeezed.unsqueeze(dim=1)\n",
    "print(images_unsqueezed.shape)"
   ]
  },
  {
   "cell_type": "code",
   "execution_count": 65,
   "id": "07461b9f-fe59-4f06-a367-ef17c7777f26",
   "metadata": {},
   "outputs": [
    {
     "name": "stdout",
     "output_type": "stream",
     "text": [
      "tensor([-0.5158])\n",
      "-0.5158449411392212\n"
     ]
    }
   ],
   "source": [
    "x = torch.randn(1)\n",
    "print(x)\n",
    "\n",
    "# o valor do tensor com um único elemento\n",
    "print(x.item())"
   ]
  },
  {
   "cell_type": "code",
   "execution_count": 10,
   "id": "634a2f2d-e45e-4210-9de2-8e0fac1ad163",
   "metadata": {},
   "outputs": [
    {
     "name": "stdout",
     "output_type": "stream",
     "text": [
      "[1. 1. 1. 1. 1.]\n",
      "tensor([1., 1., 1., 1., 1.], dtype=torch.float64)\n",
      "tensor([1., 1., 1., 1., 1.], dtype=torch.float64)\n",
      "a [2. 2. 2. 2. 2.]\n",
      "b tensor([2., 2., 2., 2., 2.], dtype=torch.float64)\n",
      "c tensor([1., 1., 1., 1., 1.], dtype=torch.float64)\n",
      "d [1. 1. 1. 1. 1.]\n"
     ]
    }
   ],
   "source": [
    "a = np.ones(5)\n",
    "b = torch.from_numpy(a)\n",
    "c = torch.tensor(a)\n",
    "d = a.copy()\n",
    "\n",
    "print(a)\n",
    "print(b)\n",
    "print(c)\n",
    "\n",
    "# cuidado ao modificar. compartilhamento de memõria entre tensores numpy e torch\n",
    "a += 1\n",
    "print(\"a\",a)\n",
    "print(\"b\",b)\n",
    "print(\"c\", c)\n",
    "print(\"d\", d)"
   ]
  },
  {
   "cell_type": "code",
   "execution_count": 70,
   "id": "7d2b4f0c-f936-47c9-8983-15bd8d907374",
   "metadata": {},
   "outputs": [
    {
     "name": "stdout",
     "output_type": "stream",
     "text": [
      "tensor(9., grad_fn=<PowBackward0>)\n"
     ]
    }
   ],
   "source": [
    "# AutoGrad - Fornece diferenciação automática para as operações com tensores \n",
    "# Pytorch possui uma engine de diferenciação chamada Autograd para o cômputo dos gradientes de qualquer grafo computacional\n",
    "\n",
    "# requires_grad=True dirá ao PyTorch para calcular os gradientes para o tensor\n",
    "import torch\n",
    "x = torch.tensor(3.0, requires_grad=True)\n",
    "y = x ** 2\n",
    "print(y)"
   ]
  },
  {
   "cell_type": "code",
   "execution_count": 71,
   "id": "ee33dfc3-2f53-42b0-a54e-36d6c2b43442",
   "metadata": {},
   "outputs": [
    {
     "name": "stdout",
     "output_type": "stream",
     "text": [
      "None\n"
     ]
    }
   ],
   "source": [
    "print(x.grad)"
   ]
  },
  {
   "cell_type": "code",
   "execution_count": 72,
   "id": "04efface-5653-4fa7-91e8-912eeef36f4e",
   "metadata": {},
   "outputs": [],
   "source": [
    "# calcula-se o gradiente com backpropagation\n",
    "y.backward()"
   ]
  },
  {
   "cell_type": "code",
   "execution_count": 73,
   "id": "c0a96cf4-2c6c-4100-86e6-3bc5bc3826e7",
   "metadata": {},
   "outputs": [
    {
     "name": "stdout",
     "output_type": "stream",
     "text": [
      "tensor(6.)\n"
     ]
    }
   ],
   "source": [
    "# obtém o gradiente\n",
    "# derivada dy/dx --> derivada de X**2 --> 2x\n",
    "# para x = 3 --> 2*x = 2*3 = 6.\n",
    "print(x.grad)"
   ]
  },
  {
   "cell_type": "code",
   "execution_count": 74,
   "id": "1123a477-0a3c-41b5-a1ab-971a0377ccab",
   "metadata": {},
   "outputs": [
    {
     "name": "stdout",
     "output_type": "stream",
     "text": [
      "tensor(3., requires_grad=True)\n",
      "tensor(3.)\n"
     ]
    }
   ],
   "source": [
    "# Para impedir o cômputo de gradientes - Uma forma\n",
    "x = torch.tensor(3.0, requires_grad=True)\n",
    "print(x)\n",
    "x.requires_grad_(False)\n",
    "print(x)"
   ]
  },
  {
   "cell_type": "code",
   "execution_count": 75,
   "id": "b736fc85-3619-457a-a2b7-8c660c72359c",
   "metadata": {},
   "outputs": [
    {
     "name": "stdout",
     "output_type": "stream",
     "text": [
      "tensor(3., requires_grad=True)\n",
      "tensor(3.) False\n"
     ]
    }
   ],
   "source": [
    "# Para impedir o cômputo de gradientes - Outra forma\n",
    "x = torch.tensor(3.0, requires_grad=True)\n",
    "print(x)\n",
    "x = x.detach()\n",
    "print(x, x.requires_grad)"
   ]
  },
  {
   "cell_type": "code",
   "execution_count": 76,
   "id": "b80b06a6-d482-453c-982f-1d6b7af0eb25",
   "metadata": {},
   "outputs": [
    {
     "name": "stdout",
     "output_type": "stream",
     "text": [
      "tensor(3., requires_grad=True)\n"
     ]
    }
   ],
   "source": [
    "# Para impedir o cômputo de gradientes - Mais outra forma\n",
    "# Aqui, desabilita-se (temporariamente) o cômputo de gradientes\n",
    "# no bloco de código identado\n",
    "x = torch.tensor(3.0, requires_grad=True)\n",
    "with torch.no_grad():\n",
    "  print(x)"
   ]
  }
 ],
 "metadata": {
  "kernelspec": {
   "display_name": "Pytorch Overview (Python 3.9)",
   "language": "python",
   "name": "py39pytorchoverview"
  },
  "language_info": {
   "codemirror_mode": {
    "name": "ipython",
    "version": 3
   },
   "file_extension": ".py",
   "mimetype": "text/x-python",
   "name": "python",
   "nbconvert_exporter": "python",
   "pygments_lexer": "ipython3",
   "version": "3.9.20"
  }
 },
 "nbformat": 4,
 "nbformat_minor": 5
}
