{
 "cells": [
  {
   "cell_type": "markdown",
   "id": "f48dec72-0b73-4245-9a01-0561e929ec3b",
   "metadata": {},
   "source": [
    "<font color='blue'><h1>Introdução Prática ao PyTorch</h1></font>\n",
    "\n",
    "<font color='0471A6'><h2>Loop de Otimização no PyTorch - Exemplo com Tarefa de Regressão</h2></font>\n",
    "\n",
    "- O modelo é treinado / otimizado em um loop de otimização\n",
    "- Cada iteração será uma época\n",
    "- Cada época contém duas partes principais:\n",
    "  - Loop de treinamento\n",
    "    - iteração sobre o conjunto de treinamento\n",
    "  - Loop de validação\n",
    "    - iteração sobre o conjunto de validação"
   ]
  },
  {
   "cell_type": "markdown",
   "id": "e2de350e-a6d1-4b0d-9d06-4369c8893a47",
   "metadata": {},
   "source": [
    "Hiperparâmetros (parâmetros ajustáveis pelo projetista). Exemplos:\n",
    "- Número de Épocas\n",
    "- Tamanho do Lote (Batch)\n",
    "- Taxa de Aprendizagem"
   ]
  },
  {
   "cell_type": "code",
   "execution_count": 1,
   "id": "8b82b0ba-12d5-493f-99fa-cf3e20030c66",
   "metadata": {},
   "outputs": [],
   "source": [
    "import torch\n",
    "from sklearn.datasets import fetch_california_housing    \n",
    "from sklearn.preprocessing import StandardScaler\n",
    "from torch.utils.data import DataLoader, TensorDataset\n",
    "import torch.nn as nn\n",
    "import torch.optim as optim"
   ]
  },
  {
   "cell_type": "code",
   "execution_count": 2,
   "id": "c41c4502-3b9a-407c-8172-0901b5426672",
   "metadata": {},
   "outputs": [],
   "source": [
    "housing = fetch_california_housing()\n",
    "X = housing.data\n",
    "y = housing.target\n",
    "\n",
    "X_train, y_train = X[:400], y[:400]\n",
    "X_test, y_test = X[400:], y[400:]\n",
    "\n",
    "train_dataset = TensorDataset(\n",
    "    torch.tensor(X_train), torch.tensor(y_train))\n",
    "\n",
    "train_dataloader = DataLoader(\n",
    "    train_dataset, batch_size=10, shuffle=True)"
   ]
  },
  {
   "cell_type": "code",
   "execution_count": 3,
   "id": "7d97ac6f-3fe4-4e38-b67a-73503559e96b",
   "metadata": {},
   "outputs": [],
   "source": [
    "class Regressor(nn.Module):\n",
    "    def __init__(self):\n",
    "        super(Regressor, self).__init__()\n",
    "        self.fc1 = nn.Linear(8, 16)\n",
    "        self.fc2 = nn.Linear(16, 4)\n",
    "        self.fc3 = nn.Linear(4, 1)\n",
    "\n",
    "    def forward(self, x):\n",
    "        x = torch.relu(self.fc1(x))\n",
    "        x = torch.relu(self.fc2(x))\n",
    "        x = self.fc3(x)\n",
    "        return x"
   ]
  },
  {
   "cell_type": "code",
   "execution_count": 4,
   "id": "a4896ca0-2067-4a30-b71b-ec894608342d",
   "metadata": {},
   "outputs": [
    {
     "name": "stdout",
     "output_type": "stream",
     "text": [
      "Epoch 0: Loss=239527885653881696.0000\n",
      "Epoch 10: Loss=184209492.6000\n",
      "Epoch 20: Loss=18.4035\n",
      "Epoch 30: Loss=0.7876\n",
      "Epoch 40: Loss=0.7877\n"
     ]
    }
   ],
   "source": [
    "model = Regressor()\n",
    "criterion = nn.MSELoss()\n",
    "optimizer = optim.SGD(model.parameters(), lr=0.01)\n",
    "\n",
    "model.train()\n",
    "num_epochs = 50\n",
    "for epoch in range(num_epochs):\n",
    "    epoch_loss = 0\n",
    "    for batch_idx, (data, target) in enumerate(train_dataloader):\n",
    "        optimizer.zero_grad()\n",
    "        output = model(data.float())\n",
    "        loss = criterion(output.squeeze(), target.float())\n",
    "        loss.backward()\n",
    "        optimizer.step()\n",
    "        epoch_loss += loss.item()\n",
    "    if epoch % 10 == 0:\n",
    "      print(f\"Epoch {epoch}: Loss={epoch_loss/len(train_dataloader):.4f}\")"
   ]
  },
  {
   "cell_type": "code",
   "execution_count": 6,
   "id": "ccc22171-3fa2-45ec-9d28-fad02683de85",
   "metadata": {},
   "outputs": [
    {
     "name": "stdout",
     "output_type": "stream",
     "text": [
      "Test Loss: 1.4799\n"
     ]
    }
   ],
   "source": [
    "test_dataset = TensorDataset(\n",
    "    torch.tensor(X_test), torch.tensor(y_test))\n",
    "\n",
    "test_dataloader = DataLoader(\n",
    "    test_dataset, batch_size=10, shuffle=False)\n",
    "\n",
    "model.eval()\n",
    "\n",
    "test_loss = 0\n",
    "with torch.no_grad():\n",
    "    for data, target in test_dataloader:\n",
    "        output = model(data.float())\n",
    "        loss = criterion(output.squeeze(), target.float())\n",
    "        test_loss += loss.item()\n",
    "\n",
    "print(f\"Test Loss: {test_loss/len(test_dataloader):.4f}\")"
   ]
  },
  {
   "cell_type": "markdown",
   "id": "ba3b46b5-ab4d-49de-b811-e7ed0a166a5d",
   "metadata": {},
   "source": [
    "# Referências \n",
    "\n",
    "* Documentação do Pytorch. Disponível em https://pytorch.org \n",
    "* Tutorial oficial do Pytorch. Disponível em https://pytorch.org/tutorials/beginner/basics/intro.html \n",
    "* Introdução ao Pytorch. Canal “Programação Dinâmica”. Disponível em https://www.youtube.com/watch?v=cGxv8tOaA7I \n",
    "* PyTorch Crash Course - Getting Started with Deep Learning. Canal AssemblyAI\". Disponível em https://youtu.be/OIenNRt2bjg \n"
   ]
  },
  {
   "cell_type": "code",
   "execution_count": null,
   "id": "0c5faebe-db31-4dd0-9580-319da785711b",
   "metadata": {},
   "outputs": [],
   "source": []
  }
 ],
 "metadata": {
  "kernelspec": {
   "display_name": "Python 3 (ipykernel)",
   "language": "python",
   "name": "python3"
  },
  "language_info": {
   "codemirror_mode": {
    "name": "ipython",
    "version": 3
   },
   "file_extension": ".py",
   "mimetype": "text/x-python",
   "name": "python",
   "nbconvert_exporter": "python",
   "pygments_lexer": "ipython3",
   "version": "3.9.20"
  }
 },
 "nbformat": 4,
 "nbformat_minor": 5
}
