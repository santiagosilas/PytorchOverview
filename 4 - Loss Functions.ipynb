{
 "cells": [
  {
   "cell_type": "markdown",
   "id": "00a0344e-604d-4b9b-8e42-3e31969950f8",
   "metadata": {},
   "source": [
    "<font color='blue'><h1>Introdução Prática ao PyTorch</h1></font>\n",
    "<font color='0471A6'><h2>Loss Functions em PyTorch (Visão Geral)</h2></font>"
   ]
  },
  {
   "cell_type": "code",
   "execution_count": 6,
   "id": "02c7f446-b06c-4d43-8b18-df89e0ae1bdd",
   "metadata": {},
   "outputs": [],
   "source": [
    "import torch\n",
    "from torch import nn\n",
    "\n",
    "'''\n",
    "Algumas das Funções de Custo Disponíveis no PyTorch\n",
    "'''\n",
    "\n",
    "\n",
    "# Erro quadrático médio para problemas de regressão.\n",
    "loss_function = nn.MSELoss()\n",
    "\n",
    "# Entropia cruzada para problemas de classif multiclasse\n",
    "# com saídas softmax.\n",
    "loss_function = nn.CrossEntropyLoss()\n",
    "\n",
    "# Entropia cruzada binária para problemas de classif binária \n",
    "# com saídas sigmoid.\n",
    "# Requer que a Sigmoide seja aplicada separadamente antes\n",
    "loss_function = nn.BCELoss()\n",
    "\n",
    "# Combinação de sigmoid + BCELoss em uma única função \n",
    "# para problemas de classificação binária. \n",
    "# É mais estável numericamente do que usar sigmoid seguido \n",
    "# de BCELoss.\n",
    "loss_function = nn.BCEWithLogitsLoss()\n"
   ]
  },
  {
   "cell_type": "code",
   "execution_count": null,
   "id": "c92cf144-f12f-4167-b559-2999f072a689",
   "metadata": {},
   "outputs": [],
   "source": [
    "def myloss(output, target):\n",
    "    loss = torch.mean((output - target)**2)\n",
    "    return loss"
   ]
  },
  {
   "cell_type": "code",
   "execution_count": null,
   "id": "e3a7a1b8-4273-44b9-a6b4-a1e2b0255588",
   "metadata": {},
   "outputs": [],
   "source": [
    "class CustomMSELoss(torch.nn.Module):\n",
    "    def __init__(self):\n",
    "        super(CustomMSELoss, self).__init__()\n",
    "\n",
    "    def forward(self, inputs, targets):        \n",
    "        tmp = (inputs-targets)**2\n",
    "        loss =  torch.mean(tmp)        \n",
    "        return loss"
   ]
  }
 ],
 "metadata": {
  "kernelspec": {
   "display_name": "Pytorch Overview (Python 3.9)",
   "language": "python",
   "name": "py39pytorchoverview"
  },
  "language_info": {
   "codemirror_mode": {
    "name": "ipython",
    "version": 3
   },
   "file_extension": ".py",
   "mimetype": "text/x-python",
   "name": "python",
   "nbconvert_exporter": "python",
   "pygments_lexer": "ipython3",
   "version": "3.9.20"
  }
 },
 "nbformat": 4,
 "nbformat_minor": 5
}
