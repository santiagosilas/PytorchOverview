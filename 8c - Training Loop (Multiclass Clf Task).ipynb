{
 "cells": [
  {
   "cell_type": "markdown",
   "id": "f48dec72-0b73-4245-9a01-0561e929ec3b",
   "metadata": {},
   "source": [
    "<font color='blue'><h1>Introdução Prática ao PyTorch</h1></font>\n",
    "\n",
    "<font color='0471A6'><h2>Loop de Otimização no PyTorch - Exemplo com Classificação Multi-classe</h2></font>\n",
    "\n",
    "- O modelo é treinado / otimizado em um loop de otimização\n",
    "- Cada iteração será uma época\n",
    "- Cada época contém duas partes principais:\n",
    "  - Loop de treinamento\n",
    "    - iteração sobre o conjunto de treinamento\n",
    "  - Loop de validação\n",
    "    - iteração sobre o conjunto de validação"
   ]
  },
  {
   "cell_type": "markdown",
   "id": "e2de350e-a6d1-4b0d-9d06-4369c8893a47",
   "metadata": {},
   "source": [
    "Hiperparâmetros (parâmetros ajustáveis pelo projetista). Exemplos:\n",
    "- Número de Épocas\n",
    "- Tamanho do Lote (Batch)\n",
    "- Taxa de Aprendizagem"
   ]
  },
  {
   "cell_type": "code",
   "execution_count": 1,
   "id": "8b82b0ba-12d5-493f-99fa-cf3e20030c66",
   "metadata": {},
   "outputs": [],
   "source": [
    "import torch\n",
    "import torch.nn as nn\n",
    "import torch.optim as optim\n",
    "from torch.utils.data import DataLoader, TensorDataset\n",
    "from sklearn.datasets import load_iris\n",
    "from sklearn.model_selection import train_test_split\n",
    "from sklearn.preprocessing import StandardScaler"
   ]
  },
  {
   "cell_type": "code",
   "execution_count": 2,
   "id": "7fdbc4fd-fa98-43e4-b6bc-70426a33fa67",
   "metadata": {},
   "outputs": [],
   "source": [
    "iris = load_iris()\n",
    "X, y = iris.data, iris.target\n",
    "\n",
    "X_train, X_test, y_train, y_test\\\n",
    "= train_test_split(X, y,\\\n",
    "test_size=0.25, random_state=42)"
   ]
  },
  {
   "cell_type": "code",
   "execution_count": 3,
   "id": "aaf323d1-5ba9-4555-904e-c28c756ef011",
   "metadata": {},
   "outputs": [],
   "source": [
    "#scaler = StandardScaler()\n",
    "#X_train = scaler.fit_transform(X_train)\n",
    "#X_test = scaler.transform(X_test)"
   ]
  },
  {
   "cell_type": "code",
   "execution_count": 4,
   "id": "95511866-894f-43db-9967-14a78332d32f",
   "metadata": {},
   "outputs": [],
   "source": [
    "X_train_tensor = torch.tensor(X_train, dtype=torch.float)\n",
    "y_train_tensor = torch.tensor(y_train, dtype=torch.long)\n",
    "X_test_tensor = torch.tensor(X_test, dtype=torch.float)\n",
    "y_test_tensor = torch.tensor(y_test, dtype=torch.long)"
   ]
  },
  {
   "cell_type": "code",
   "execution_count": 5,
   "id": "1832d1ad-64c3-425c-8707-f154548be1ed",
   "metadata": {},
   "outputs": [],
   "source": [
    "# definindo o conjunto de dados com tensores\n",
    "train_dataset = TensorDataset(\n",
    "    X_train_tensor, y_train_tensor)\n",
    "\n",
    "# definindo o dataloader\n",
    "train_dataloader = DataLoader(\n",
    "    train_dataset, batch_size=10, shuffle=True)"
   ]
  },
  {
   "cell_type": "code",
   "execution_count": 6,
   "id": "d3e86f62-49e2-4fe1-ba58-e2129cad798d",
   "metadata": {},
   "outputs": [],
   "source": [
    "class Net(nn.Module):\n",
    "    def __init__(self):\n",
    "        super().__init__()\n",
    "        self.fc1 = nn.Linear(4, 10)\n",
    "        self.fc2 = nn.Linear(10, 3)\n",
    "        self.relu = nn.ReLU()\n",
    "        self.softmax = nn.Softmax(dim=1)\n",
    "        \n",
    "    def forward(self, x):\n",
    "        x = self.fc1(x)\n",
    "        x = self.relu(x)\n",
    "        x = self.fc2(x)\n",
    "        x = self.softmax(x)\n",
    "        return x\n",
    "\n",
    "net = Net()\n",
    "criterion = nn.CrossEntropyLoss()\n",
    "optimizer = optim.SGD(net.parameters(), lr=0.01)"
   ]
  },
  {
   "cell_type": "code",
   "execution_count": 7,
   "id": "5bfd7e9b-f2df-4c72-8527-8e377e825f6e",
   "metadata": {},
   "outputs": [
    {
     "name": "stdout",
     "output_type": "stream",
     "text": [
      "Epoch 0 loss: 1.137\n",
      "Epoch 10 loss: 1.113\n",
      "Epoch 20 loss: 1.102\n",
      "Epoch 30 loss: 1.072\n",
      "Epoch 40 loss: 1.079\n",
      "Epoch 50 loss: 1.063\n",
      "Epoch 60 loss: 1.055\n",
      "Epoch 70 loss: 1.053\n",
      "Epoch 80 loss: 1.024\n",
      "Epoch 90 loss: 0.987\n"
     ]
    }
   ],
   "source": [
    "net.train()\n",
    "\n",
    "# treinando a rede neural\n",
    "for epoch in range(100):\n",
    "    running_loss = 0.0\n",
    "    for i, data in enumerate(train_dataloader, 0):\n",
    "        inputs, labels = data\n",
    "        optimizer.zero_grad()\n",
    "        outputs = net(inputs)\n",
    "        loss = criterion(outputs, labels)\n",
    "        loss.backward()\n",
    "        optimizer.step()\n",
    "        running_loss += loss.item()\n",
    "    if epoch % 10 == 0:\n",
    "      print('Epoch %d loss: %.3f' % (epoch, \n",
    "                                     running_loss / len(train_dataloader)))"
   ]
  },
  {
   "cell_type": "code",
   "execution_count": 8,
   "id": "896927b0-7e11-4e25-8785-32a93fbdfb0e",
   "metadata": {},
   "outputs": [
    {
     "name": "stdout",
     "output_type": "stream",
     "text": [
      "Accuracy: 71.0526 %\n"
     ]
    }
   ],
   "source": [
    "test_dataset = TensorDataset(X_test_tensor, y_test_tensor)\n",
    "test_dataloader = DataLoader(test_dataset, batch_size=1, shuffle=True)\n",
    "\n",
    "correct = 0\n",
    "total = 0\n",
    "net.eval()\n",
    "with torch.no_grad():\n",
    "    for data in test_dataloader:\n",
    "        inputs, labels = data\n",
    "        outputs = net(inputs)\n",
    "        _, predicted = torch.max(outputs.data, 1)\n",
    "        total += 1\n",
    "        correct += (predicted == labels).sum().item()\n",
    "\n",
    "print('Accuracy: %.4f %%' % (100 * correct / total))"
   ]
  },
  {
   "cell_type": "markdown",
   "id": "a114c205-48b0-42ce-8018-570dcf1fdc27",
   "metadata": {},
   "source": [
    "# Referências \n",
    "\n",
    "* Documentação do Pytorch. Disponível em https://pytorch.org \n",
    "* Tutorial oficial do Pytorch. Disponível em https://pytorch.org/tutorials/beginner/basics/intro.html \n",
    "* Introdução ao Pytorch. Canal “Programação Dinâmica”. Disponível em https://www.youtube.com/watch?v=cGxv8tOaA7I \n",
    "* PyTorch Crash Course - Getting Started with Deep Learning. Canal AssemblyAI\". Disponível em https://youtu.be/OIenNRt2bjg \n"
   ]
  },
  {
   "cell_type": "code",
   "execution_count": null,
   "id": "7bde25ac-fd25-431a-8f42-74ab2fcc7a5c",
   "metadata": {},
   "outputs": [],
   "source": []
  }
 ],
 "metadata": {
  "kernelspec": {
   "display_name": "Python 3 (ipykernel)",
   "language": "python",
   "name": "python3"
  },
  "language_info": {
   "codemirror_mode": {
    "name": "ipython",
    "version": 3
   },
   "file_extension": ".py",
   "mimetype": "text/x-python",
   "name": "python",
   "nbconvert_exporter": "python",
   "pygments_lexer": "ipython3",
   "version": "3.9.20"
  }
 },
 "nbformat": 4,
 "nbformat_minor": 5
}
