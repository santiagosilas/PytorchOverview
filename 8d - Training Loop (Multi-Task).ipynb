{
 "cells": [
  {
   "cell_type": "markdown",
   "id": "f48dec72-0b73-4245-9a01-0561e929ec3b",
   "metadata": {},
   "source": [
    "<font color='blue'><h1>Introdução Prática ao PyTorch</h1></font>\n",
    "\n",
    "<font color='0471A6'><h2>Loop de Otimização no PyTorch - Exemplo Simples Multi-Task</h2></font>\n",
    "\n",
    "- O modelo é treinado / otimizado em um loop de otimização\n",
    "- Cada iteração será uma época\n",
    "- Cada época contém duas partes principais:\n",
    "  - Loop de treinamento\n",
    "    - iteração sobre o conjunto de treinamento\n",
    "  - Loop de validação\n",
    "    - iteração sobre o conjunto de validação"
   ]
  },
  {
   "cell_type": "markdown",
   "id": "e2de350e-a6d1-4b0d-9d06-4369c8893a47",
   "metadata": {},
   "source": [
    "Hiperparâmetros (parâmetros ajustáveis pelo projetista). Exemplos:\n",
    "- Número de Épocas\n",
    "- Tamanho do Lote (Batch)\n",
    "- Taxa de Aprendizagem"
   ]
  },
  {
   "cell_type": "code",
   "execution_count": 1,
   "id": "8b82b0ba-12d5-493f-99fa-cf3e20030c66",
   "metadata": {},
   "outputs": [
    {
     "name": "stdout",
     "output_type": "stream",
     "text": [
      "fc4b.bias\n",
      "fc4b.weight\n",
      "fc3b.bias\n",
      "fc3b.weight\n",
      "fc4a.bias\n",
      "fc4a.weight\n",
      "fc3a.bias\n",
      "fc3a.weight\n",
      "fc2.bias\n",
      "fc2.weight\n",
      "fc1.bias\n",
      "fc1.weight\n",
      "Epoch 0 loss: 0.000\n"
     ]
    }
   ],
   "source": [
    "import torch\n",
    "import torch.nn as nn\n",
    "import torch.optim as optim\n",
    "from torch.utils.data import TensorDataset, DataLoader\n",
    "from collections import Counter\n",
    "\n",
    "from sklearn.datasets import load_breast_cancer\n",
    "from sklearn.model_selection import train_test_split\n",
    "\n",
    "data = load_breast_cancer()\n",
    "X = data.data\n",
    "y = data.target\n",
    "X_train, X_test, y_train, y_test\\\n",
    "= train_test_split(X, y, test_size=0.25)\n",
    "\n",
    "X_train = torch.Tensor(X_train)\n",
    "y_train = torch.Tensor(y_train)\n",
    "X_test = torch.Tensor(X_test)\n",
    "y_test = torch.Tensor(y_test)\n",
    "\n",
    "train_dataset = TensorDataset(X_train, y_train)\n",
    "train_loader = DataLoader(train_dataset, batch_size=10, shuffle=True)\n",
    "test_dataset = TensorDataset(X_test, y_test)\n",
    "test_loader = DataLoader(test_dataset, batch_size=1, shuffle=True)\n",
    "\n",
    "class MLP(nn.Module):\n",
    "    def __init__(self):\n",
    "        super().__init__()\n",
    "        self.fc1 = nn.Linear(30, 16)\n",
    "        self.fc2 = nn.Linear(16, 8)\n",
    "\n",
    "        self.fc3a = nn.Linear(8, 4)\n",
    "        self.fc4a = nn.Linear(4, 1)\n",
    "\n",
    "        self.fc3b = nn.Linear(8, 4)\n",
    "        self.fc4b = nn.Linear(4, 1)\n",
    "        self.sigmoid = nn.Sigmoid()\n",
    "\n",
    "    def forward(self, x):\n",
    "        x = self.sigmoid(self.fc1(x))\n",
    "        h = self.sigmoid(self.fc2(x))\n",
    "\n",
    "        xa = self.sigmoid(self.fc3a(h))\n",
    "        xa = self.sigmoid(self.fc4a(xa))\n",
    "\n",
    "\n",
    "        xb = self.sigmoid(self.fc3b(h))\n",
    "        xb = self.sigmoid(self.fc4b(xb))\n",
    "\n",
    "        return xa,xb\n",
    "\n",
    "net = MLP()\n",
    "criterion1, criterion2 = nn.MSELoss(), nn.MSELoss()\n",
    "optimizer = optim.SGD(net.parameters(), lr=0.01)\n",
    "net.train()\n",
    "\n",
    "# Registro hooks para imprimir cada parametro\n",
    "def print_grad(name):\n",
    "    def hook(grad):\n",
    "        print(f\"{name}\")\n",
    "    return hook\n",
    "\n",
    "for name, param in net.named_parameters():\n",
    "    param.register_hook(print_grad(name))\n",
    "\n",
    "# Treinando a rede neural\n",
    "for epoch in range(5):\n",
    "    running_loss = 0.0\n",
    "    for i, data in enumerate(train_loader, 0):\n",
    "        inputs, labels = data\n",
    "        optimizer.zero_grad()\n",
    "        xa, xb = net(inputs)\n",
    "        loss1 = criterion1(xa, labels.view(-1, 1))\n",
    "        loss2 = criterion2(xb, labels.view(-1, 1))\n",
    "        loss = loss1 + loss2\n",
    "\n",
    "        loss.backward()\n",
    "        break\n",
    "        optimizer.step()\n",
    "\n",
    "        running_loss += loss.item()\n",
    "        break\n",
    "\n",
    "    if epoch % 100 == 0:\n",
    "      print('Epoch %d loss: %.3f' % (epoch,\n",
    "          running_loss / len(train_loader)))\n",
    "    break"
   ]
  },
  {
   "cell_type": "code",
   "execution_count": 2,
   "id": "365eca49-10eb-4778-a590-c0a41d691bec",
   "metadata": {},
   "outputs": [
    {
     "name": "stdout",
     "output_type": "stream",
     "text": [
      "Accuracy on test set: 0.6364\n"
     ]
    }
   ],
   "source": [
    "net.eval()\n",
    "\n",
    "correct = 0\n",
    "total = 0\n",
    "\n",
    "with torch.no_grad():\n",
    "    for inputs, targets in test_loader:\n",
    "        xa, xb = net(inputs)\n",
    "        predictions = torch.round(xa)\n",
    "        total += targets.size(0)\n",
    "        correct += (predictions ==\n",
    "                    targets.unsqueeze(1)).sum().item()\n",
    "\n",
    "accuracy = correct / total\n",
    "print(f\"Accuracy on test set: {accuracy:.4f}\")"
   ]
  },
  {
   "cell_type": "code",
   "execution_count": 3,
   "id": "7bde25ac-fd25-431a-8f42-74ab2fcc7a5c",
   "metadata": {},
   "outputs": [],
   "source": [
    "# loss.backward(inputs=list(net.fc2.parameters()))\n",
    "# optimizer.step()\n",
    "#for name, param in net.named_parameters():\n",
    "#    pass # print(name, param.grad)"
   ]
  },
  {
   "cell_type": "code",
   "execution_count": null,
   "id": "04dbf58c-9d96-4a7f-b7b5-dbfe95f7dd68",
   "metadata": {},
   "outputs": [],
   "source": []
  }
 ],
 "metadata": {
  "kernelspec": {
   "display_name": "Python 3 (ipykernel)",
   "language": "python",
   "name": "python3"
  },
  "language_info": {
   "codemirror_mode": {
    "name": "ipython",
    "version": 3
   },
   "file_extension": ".py",
   "mimetype": "text/x-python",
   "name": "python",
   "nbconvert_exporter": "python",
   "pygments_lexer": "ipython3",
   "version": "3.9.20"
  }
 },
 "nbformat": 4,
 "nbformat_minor": 5
}
